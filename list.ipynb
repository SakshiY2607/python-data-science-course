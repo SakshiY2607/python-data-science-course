{
 "cells": [
  {
   "cell_type": "code",
   "execution_count": 36,
   "metadata": {},
   "outputs": [],
   "source": [
    "list1=[\"Nikhil\",\"Aman\",\"Rahul\",\"Devansh\",\"Rahul\"]\n",
    "list2=[1,2,3,4,5,15,25,100]\n",
    "list3=[\"Ravi\",90,102,93,29,44,\"B\",False,5.786]\n",
    "list4=[[1,2,3],[3,4,5,7],[2,1]]"
   ]
  },
  {
   "cell_type": "code",
   "execution_count": 37,
   "metadata": {},
   "outputs": [
    {
     "name": "stdout",
     "output_type": "stream",
     "text": [
      "list1 = [2, 4, 6, 'A', 10, 'B', 16, 'C', 20]\n",
      "list1[0]= 2\n",
      "list1[2]= 6\n",
      "list1[-1]= 20\n",
      "list1[-3]= 16\n",
      "['A', 10, 'B', 16]\n"
     ]
    }
   ],
   "source": [
    "list1=[2,4,6,'A',10,'B',16,'C',20]  #indexing begins from 0 in front and from -1 from  the back\n",
    "print('list1 =',list1)\n",
    "#First Item-\n",
    "print('list1[0]=',list1[0])\n",
    "#third item-\n",
    "print('list1[2]=',list1[2])\n",
    "#Last item -\n",
    "print('list1[-1]=',list1[-1])\n",
    "#Last Third item -\n",
    "print('list1[-3]=',list1[-3])\n",
    "#slicing\n",
    "slice1=list1[3:-2]\n",
    "print(slice1)\n"
   ]
  },
  {
   "cell_type": "code",
   "execution_count": 38,
   "metadata": {},
   "outputs": [],
   "source": [
    "books=[\n",
    "    'Legion',\n",
    "    'Legion:Skin Deep',\n",
    "    'Steelheart',\n",
    "    'Calamity',\n",
    "    'The Final Empire',\n",
    "    'The Well of Ascension',\n",
    "    'Way of the kings',\n",
    "    'Oathbringer',\n",
    "    'Words of Radiance',\n",
    "    'Warbreaker',\n",
    "]\n",
    "    "
   ]
  },
  {
   "cell_type": "code",
   "execution_count": 39,
   "metadata": {},
   "outputs": [
    {
     "name": "stdout",
     "output_type": "stream",
     "text": [
      "['Legion', 'Legion:Skin Deep', 'Steelheart']\n",
      "['Legion', 'Legion:Skin Deep', 'Steelheart', 'Calamity', 'The Final Empire', 'The Well of Ascension', 'Way of the kings']\n",
      "['Calamity', 'The Final Empire', 'The Well of Ascension', 'Way of the kings', 'Oathbringer', 'Words of Radiance']\n"
     ]
    }
   ],
   "source": [
    "print(books[:3])#first 3 books\n",
    "print(books[:-3])#last 3 books\n",
    "print(books[3:-1]) # all except first 3 and last 3 books"
   ]
  },
  {
   "cell_type": "code",
   "execution_count": 40,
   "metadata": {},
   "outputs": [],
   "source": [
    "fruits=[]\n",
    "fruits.append('Apple')#append takes only  agrument at a time\n",
    "fruits.append('Banana')\n",
    "fruits.append('Cherry')\n",
    "fruits.append('Guava')\n"
   ]
  },
  {
   "cell_type": "code",
   "execution_count": 41,
   "metadata": {},
   "outputs": [],
   "source": [
    "books.append('Firefight')\n",
    "books.append('Rhythm of War')"
   ]
  },
  {
   "cell_type": "code",
   "execution_count": 42,
   "metadata": {},
   "outputs": [
    {
     "name": "stdout",
     "output_type": "stream",
     "text": [
      "['Legion', 'Legion:Skin Deep', 'Steelheart', 'Calamity', 'The Final Empire', 'The Well of Ascension', 'Way of the kings', 'Oathbringer', 'Words of Radiance', 'Warbreaker', 'Firefight', 'Rhythm of War', 'Goosebumps']\n"
     ]
    }
   ],
   "source": [
    "bookname=input('enter book to be added')\n",
    "books.append(bookname)\n",
    "print(books)"
   ]
  },
  {
   "cell_type": "code",
   "execution_count": 43,
   "metadata": {},
   "outputs": [
    {
     "name": "stdout",
     "output_type": "stream",
     "text": [
      "['Apple', 'Orange', 'Banana', 'Cherry', 'Guava']\n"
     ]
    }
   ],
   "source": [
    "fruits.insert(1,'Orange')\n",
    "print(fruits)\n"
   ]
  },
  {
   "cell_type": "code",
   "execution_count": 44,
   "metadata": {},
   "outputs": [
    {
     "name": "stdout",
     "output_type": "stream",
     "text": [
      "['Apple', 'Orange', 'Banana', 'Cherry', 'Guava']\n"
     ]
    }
   ],
   "source": [
    "fruits[0:1]\n",
    "print(fruits)"
   ]
  },
  {
   "cell_type": "code",
   "execution_count": 45,
   "metadata": {},
   "outputs": [
    {
     "name": "stdout",
     "output_type": "stream",
     "text": [
      "['Legion', 'Legion:Skin Deep', 'Steelheart', 'Calamity', 'The Final Empire', 'The Well of Ascension', 'The Hero of Ages', 'Way of the kings', 'Oathbringer', 'Words of Radiance', 'Warbreaker', 'Firefight', 'Rhythm of War', 'Goosebumps']\n"
     ]
    }
   ],
   "source": [
    "books.insert(6,'The Hero of Ages')\n",
    "print(books)"
   ]
  },
  {
   "cell_type": "code",
   "execution_count": 46,
   "metadata": {},
   "outputs": [
    {
     "data": {
      "text/plain": [
       "['Apple', 'Orange', 'Banana', 'Cherry', 'Guava', 'Almond', 'Cashew', 'Walnut']"
      ]
     },
     "execution_count": 46,
     "metadata": {},
     "output_type": "execute_result"
    }
   ],
   "source": [
    "dry_fruits=['Almond','Cashew','Walnut'] # to add small list to the larger one\n",
    "fruits.extend(dry_fruits)\n",
    "fruits"
   ]
  },
  {
   "cell_type": "code",
   "execution_count": 47,
   "metadata": {},
   "outputs": [
    {
     "data": {
      "text/plain": [
       "['Apple', 'Banana', 'Cherry', 'Guava']"
      ]
     },
     "execution_count": 47,
     "metadata": {},
     "output_type": "execute_result"
    }
   ],
   "source": [
    "fruits=['Cherry','Guava','Apple','Banana']\n",
    "fruits.sort() #sorts in ascending order .....sort only works for same type of data....if capital and small letters both are their then in that case first capital ones will be printed then small ones\n",
    "fruits"
   ]
  },
  {
   "cell_type": "code",
   "execution_count": 48,
   "metadata": {},
   "outputs": [
    {
     "name": "stdout",
     "output_type": "stream",
     "text": [
      "[1, 1, 1, 1, 1, 2, 2, 2, 2, 3, 3, 3, 4, 5]\n"
     ]
    }
   ],
   "source": [
    "x=[1,2,2,3,3,2,3,1,1,1,1,2,4,5]\n",
    "x.sort() # becoz it cannot decide which one is smaller or greater\n",
    "print(x)"
   ]
  },
  {
   "cell_type": "code",
   "execution_count": 49,
   "metadata": {},
   "outputs": [
    {
     "name": "stdout",
     "output_type": "stream",
     "text": [
      "[1, 1, 1, 1, 2, 2, 2, 2, 3, 3, 3, 4, 5]\n",
      "[1, 1, 1, 1, 2, 2, 2, 2, 3, 3, 3, 5]\n"
     ]
    }
   ],
   "source": [
    "if 1 in x:\n",
    "    x.remove(1)\n",
    "print(x)\n",
    "if 4 in x:\n",
    "    x.remove(4)\n",
    "print(x)        "
   ]
  },
  {
   "cell_type": "code",
   "execution_count": 50,
   "metadata": {},
   "outputs": [
    {
     "name": "stdout",
     "output_type": "stream",
     "text": [
      "[1, 1, 1, 1, 2, 2, 2, 2, 3, 3, 5]\n",
      "[1, 1, 1, 1, 2, 2, 2, 2, 3, 3]\n"
     ]
    }
   ],
   "source": [
    "x.remove(3)if 3 in x else print('not found')\n",
    "print(x) # it will ended up giving o/p as not found when on running the loop multiple times all the 3 available in the list will be remove s \n",
    "x.remove(5)\n",
    "print(x)"
   ]
  },
  {
   "cell_type": "code",
   "execution_count": 51,
   "metadata": {},
   "outputs": [
    {
     "data": {
      "text/plain": [
       "['Guava', 'Cherry', 'Banana', 'Apple']"
      ]
     },
     "execution_count": 51,
     "metadata": {},
     "output_type": "execute_result"
    }
   ],
   "source": [
    "fruits.sort(reverse=True)\n",
    "fruits"
   ]
  },
  {
   "cell_type": "code",
   "execution_count": 52,
   "metadata": {},
   "outputs": [
    {
     "name": "stdout",
     "output_type": "stream",
     "text": [
      "['Guava', 'Banana', 'Apple']\n"
     ]
    }
   ],
   "source": [
    "fruits.remove('Cherry')\n",
    "print(fruits)"
   ]
  },
  {
   "cell_type": "code",
   "execution_count": 53,
   "metadata": {},
   "outputs": [
    {
     "name": "stdout",
     "output_type": "stream",
     "text": [
      "['Goosebumps', 'Rhythm of War', 'Firefight', 'Warbreaker', 'Words of Radiance', 'Oathbringer', 'Way of the kings', 'The Hero of Ages', 'The Well of Ascension', 'The Final Empire', 'Calamity', 'Steelheart', 'Legion:Skin Deep', 'Legion']\n"
     ]
    }
   ],
   "source": [
    "books.reverse() #reverse the list\n",
    "print(books)"
   ]
  },
  {
   "cell_type": "code",
   "execution_count": 54,
   "metadata": {},
   "outputs": [
    {
     "data": {
      "text/plain": [
       "['Calamity',\n",
       " 'Firefight',\n",
       " 'Goosebumps',\n",
       " 'Legion',\n",
       " 'Legion:Skin Deep',\n",
       " 'Oathbringer',\n",
       " 'Rhythm of War',\n",
       " 'Steelheart',\n",
       " 'The Final Empire',\n",
       " 'The Hero of Ages',\n",
       " 'The Well of Ascension',\n",
       " 'Warbreaker',\n",
       " 'Way of the kings',\n",
       " 'Words of Radiance']"
      ]
     },
     "execution_count": 54,
     "metadata": {},
     "output_type": "execute_result"
    }
   ],
   "source": [
    "books[::-1] #reverse the list\n",
    "books.sort()#atrange in an order\n",
    "books"
   ]
  },
  {
   "cell_type": "code",
   "execution_count": 55,
   "metadata": {},
   "outputs": [
    {
     "name": "stdout",
     "output_type": "stream",
     "text": [
      "[1, 1, 1, 1, 2, 2, 2, 2, 3, 3]\n",
      "4\n",
      "2\n"
     ]
    }
   ],
   "source": [
    "print(x)\n",
    "print(x.count(1)) # counts the number of 1 in the list x\n",
    "print(x.count(3))"
   ]
  },
  {
   "cell_type": "code",
   "execution_count": 56,
   "metadata": {},
   "outputs": [
    {
     "data": {
      "text/plain": [
       "4"
      ]
     },
     "execution_count": 56,
     "metadata": {},
     "output_type": "execute_result"
    }
   ],
   "source": [
    "x.index(2) #gives first index of 2 in the list"
   ]
  },
  {
   "cell_type": "code",
   "execution_count": 57,
   "metadata": {},
   "outputs": [
    {
     "data": {
      "text/plain": [
       "['Calamity',\n",
       " 'Firefight',\n",
       " 'Goosebumps',\n",
       " 'Legion',\n",
       " 'Legion:Skin Deep',\n",
       " 'Oathbringer',\n",
       " 'Rhythm of War',\n",
       " 'Steelheart',\n",
       " 'The Final Empire',\n",
       " 'The Hero of Ages',\n",
       " 'The Well of Ascension',\n",
       " 'Warbreaker',\n",
       " 'Way of the kings',\n",
       " 'Words of Radiance']"
      ]
     },
     "execution_count": 57,
     "metadata": {},
     "output_type": "execute_result"
    }
   ],
   "source": [
    "books"
   ]
  },
  {
   "cell_type": "code",
   "execution_count": 58,
   "metadata": {},
   "outputs": [
    {
     "data": {
      "text/plain": [
       "2"
      ]
     },
     "execution_count": 58,
     "metadata": {},
     "output_type": "execute_result"
    }
   ],
   "source": [
    "books.index('Goosebumps')"
   ]
  },
  {
   "cell_type": "code",
   "execution_count": 59,
   "metadata": {},
   "outputs": [
    {
     "data": {
      "text/plain": [
       "['Oathbringer',\n",
       " 'Rhythm of War',\n",
       " 'Steelheart',\n",
       " 'The Final Empire',\n",
       " 'The Hero of Ages',\n",
       " 'The Well of Ascension',\n",
       " 'Warbreaker',\n",
       " 'Way of the kings',\n",
       " 'Words of Radiance']"
      ]
     },
     "execution_count": 59,
     "metadata": {},
     "output_type": "execute_result"
    }
   ],
   "source": [
    "books[books.index('Oathbringer'):] #gives all thebooks from oathbringer till the end"
   ]
  },
  {
   "cell_type": "code",
   "execution_count": 60,
   "metadata": {},
   "outputs": [
    {
     "data": {
      "text/plain": [
       "['Calamity',\n",
       " 'Firefight',\n",
       " 'Goosebumps',\n",
       " 'Legion',\n",
       " 'Legion:Skin Deep',\n",
       " 'Oathbringer',\n",
       " 'Rhythm of War']"
      ]
     },
     "execution_count": 60,
     "metadata": {},
     "output_type": "execute_result"
    }
   ],
   "source": [
    "books[books.index('Calamity'):books.index('Steelheart')]"
   ]
  },
  {
   "cell_type": "code",
   "execution_count": 61,
   "metadata": {},
   "outputs": [
    {
     "name": "stdout",
     "output_type": "stream",
     "text": [
      "['Guava', 'Banana', 'Apple']\n"
     ]
    }
   ],
   "source": [
    "dup_fruits=fruits.copy()\n",
    "print(dup_fruits)"
   ]
  },
  {
   "cell_type": "code",
   "execution_count": 62,
   "metadata": {},
   "outputs": [
    {
     "data": {
      "text/plain": [
       "['Guava', 'Banana']"
      ]
     },
     "execution_count": 62,
     "metadata": {},
     "output_type": "execute_result"
    }
   ],
   "source": [
    "fruits.pop() #if we don\"t specify the index inside pop it will remove the last one in the list by default\n",
    "fruits #pop is similar to remove"
   ]
  },
  {
   "cell_type": "code",
   "execution_count": 63,
   "metadata": {},
   "outputs": [
    {
     "data": {
      "text/plain": [
       "[]"
      ]
     },
     "execution_count": 63,
     "metadata": {},
     "output_type": "execute_result"
    }
   ],
   "source": [
    "fruit=['Guava', 'Banana', 'Apple','Orange']\n",
    "fruit.clear()# to remove eveything from the list i.e to empty the list\n",
    "fruit"
   ]
  },
  {
   "cell_type": "code",
   "execution_count": 64,
   "metadata": {},
   "outputs": [
    {
     "name": "stdout",
     "output_type": "stream",
     "text": [
      "['Calamity', 'Firefight', 'Goosebumps', 'Legion', 'Legion:Skin Deep', 'Oathbringer', 'Rhythm of War', 'Steelheart', 'The Final Empire', 'The Hero of Ages', 'The Well of Ascension', 'Warbreaker', 'Way of the kings', 'Words of Radiance']\n",
      "['Calamity', 'Firefight', 'Goosebumps', 'Legion', 'Legion:Skin Deep', 'Rhythm of War', 'Steelheart', 'The Final Empire', 'The Hero of Ages', 'The Well of Ascension', 'Warbreaker', 'Way of the kings', 'Words of Radiance']\n"
     ]
    }
   ],
   "source": [
    "print(books)\n",
    "books.pop(5)\n",
    "print(books) #in this the book at the index 5 i.e Oathbringer gets removed"
   ]
  },
  {
   "cell_type": "code",
   "execution_count": 65,
   "metadata": {},
   "outputs": [
    {
     "data": {
      "text/plain": [
       "['Guava', 'Banana']"
      ]
     },
     "execution_count": 65,
     "metadata": {},
     "output_type": "execute_result"
    }
   ],
   "source": [
    "fruits"
   ]
  },
  {
   "cell_type": "code",
   "execution_count": 66,
   "metadata": {},
   "outputs": [
    {
     "data": {
      "text/plain": [
       "['Guava', 'Banana', 'Cherry', 'Orange']"
      ]
     },
     "execution_count": 66,
     "metadata": {},
     "output_type": "execute_result"
    }
   ],
   "source": [
    "fruits.append('Cherry')\n",
    "fruits.append('Orange')\n",
    "fruits"
   ]
  },
  {
   "cell_type": "code",
   "execution_count": 67,
   "metadata": {},
   "outputs": [
    {
     "data": {
      "text/plain": [
       "'Orange'"
      ]
     },
     "execution_count": 67,
     "metadata": {},
     "output_type": "execute_result"
    }
   ],
   "source": [
    "fruits.pop(-1)"
   ]
  },
  {
   "cell_type": "code",
   "execution_count": 68,
   "metadata": {},
   "outputs": [
    {
     "data": {
      "text/plain": [
       "['Banana', 'Cherry', 'Guava']"
      ]
     },
     "execution_count": 68,
     "metadata": {},
     "output_type": "execute_result"
    }
   ],
   "source": [
    "fruits.sort()\n",
    "fruits"
   ]
  },
  {
   "cell_type": "code",
   "execution_count": 69,
   "metadata": {},
   "outputs": [
    {
     "data": {
      "text/plain": [
       "['Banana', 'Guava']"
      ]
     },
     "execution_count": 69,
     "metadata": {},
     "output_type": "execute_result"
    }
   ],
   "source": [
    "fruits.remove('Cherry')\n",
    "fruits"
   ]
  },
  {
   "cell_type": "code",
   "execution_count": 70,
   "metadata": {},
   "outputs": [
    {
     "data": {
      "text/plain": [
       "'Banana'"
      ]
     },
     "execution_count": 70,
     "metadata": {},
     "output_type": "execute_result"
    }
   ],
   "source": [
    "fruits.pop(-2)"
   ]
  },
  {
   "cell_type": "code",
   "execution_count": 71,
   "metadata": {},
   "outputs": [
    {
     "name": "stdout",
     "output_type": "stream",
     "text": [
      "['4', '4', '4', '5', '5']\n"
     ]
    }
   ],
   "source": [
    "ex=[]\n",
    "for i in range(5):\n",
    "    val=input(f'enter value{i+1}:') #to append list as per user \n",
    "    ex.append(val)\n",
    "print(ex)    "
   ]
  },
  {
   "cell_type": "code",
   "execution_count": 72,
   "metadata": {},
   "outputs": [
    {
     "name": "stdout",
     "output_type": "stream",
     "text": [
      "411\n"
     ]
    }
   ],
   "source": [
    "data=[23,54,67,78,99,90]\n",
    "total=0\n",
    "for i in data:\n",
    "    total+=i \n",
    "print(total)  #to get the final answer  "
   ]
  },
  {
   "cell_type": "markdown",
   "metadata": {},
   "source": [
    "#find mean,median,min,max,standard deviation"
   ]
  },
  {
   "cell_type": "code",
   "execution_count": 73,
   "metadata": {},
   "outputs": [
    {
     "name": "stdout",
     "output_type": "stream",
     "text": [
      "3.6666666666666665\n",
      "3\n",
      "1\n",
      "7\n"
     ]
    }
   ],
   "source": [
    "\n",
    " x=[2,4,6,7,3,2,1,2,5,4,3,2,1,6,7]\n",
    " #mean\n",
    " mean=sum(x)/len(x)\n",
    " print(mean)\n",
    " #median\n",
    " x.sort()\n",
    " if len(x)%2==0:\n",
    "    median=(x[len(x)//2]+x[len(x)//2-1])/2\n",
    "else:\n",
    "    median=x[len(x)//2]    \n",
    " print(median)\n",
    " #min\n",
    " print(min(x))\n",
    " #max\n",
    " print(max(x))\n",
    " "
   ]
  },
  {
   "cell_type": "code",
   "execution_count": 74,
   "metadata": {},
   "outputs": [
    {
     "name": "stdout",
     "output_type": "stream",
     "text": [
      "['45']\n"
     ]
    }
   ],
   "source": [
    "#add two lists (its in complete)\n",
    "l1=[input('l1')]\n",
    "l2=[input('l2')]\n",
    "nl=[]\n",
    "for i,j in zip(l1,l2):\n",
    "    nl.append(i+j)\n",
    "print(nl)    \n",
    "\n",
    "\n"
   ]
  },
  {
   "cell_type": "code",
   "execution_count": 75,
   "metadata": {},
   "outputs": [
    {
     "name": "stdout",
     "output_type": "stream",
     "text": [
      "[4, 4, 5, 7]\n"
     ]
    }
   ],
   "source": [
    "#add two lists when list is not user given\n",
    "l1=[1,2,3,4]\n",
    "l2=[3,2,2,3]\n",
    "nl=[]\n",
    "for i,j in zip(l1,l2): #zip function make two loop run simultaneously\n",
    "    nl.append(i+j)\n",
    "print(nl)    \n"
   ]
  },
  {
   "cell_type": "code",
   "execution_count": 76,
   "metadata": {},
   "outputs": [
    {
     "name": "stdout",
     "output_type": "stream",
     "text": [
      "[4, 16, 25, 36]\n"
     ]
    }
   ],
   "source": [
    "l=[2,4,5,6]\n",
    "nl=[]\n",
    "\n",
    "for i in l:\n",
    "    nl.append(i**2)\n",
    "print(nl)"
   ]
  },
  {
   "cell_type": "code",
   "execution_count": 77,
   "metadata": {},
   "outputs": [
    {
     "name": "stdout",
     "output_type": "stream",
     "text": [
      "[4, 6, 8, 9, 10, 12, 14, 8, 3]\n",
      "[81, 9]\n"
     ]
    }
   ],
   "source": [
    "#suquare of only odd nos of the list\n",
    "l=[4,6,8,9,10,12,14,8,3]\n",
    "nl=[]\n",
    "for i in l:\n",
    "    if(i%2!=0):\n",
    "        nl.append(i**2)\n",
    "print(l)   \n",
    "print(nl)          "
   ]
  },
  {
   "cell_type": "code",
   "execution_count": 1,
   "metadata": {},
   "outputs": [
    {
     "name": "stdout",
     "output_type": "stream",
     "text": [
      "['US', 'PM', 'SE', 'DA', 'SSE', 'SDA', 'DS', 'DSE']\n"
     ]
    }
   ],
   "source": [
    "#create a abbreviation list from an existing list of words\n",
    "words=['United State','Project Manager','Software Engineer','Data Analyst','Senior Software Engineer','Senior Data Analyst','Data Scientist','Data Structures Engineer']\n",
    "abb=[]\n",
    "for items in words:\n",
    "    items=items.split()\n",
    "    s=''\n",
    "    for  i in items:\n",
    "        s+=i[0]\n",
    "    abb.append(s)\n",
    "print(abb)"
   ]
  },
  {
   "cell_type": "code",
   "execution_count": 6,
   "metadata": {},
   "outputs": [
    {
     "name": "stdout",
     "output_type": "stream",
     "text": [
      "4 5 g l\n",
      "[4, 5]\n",
      "[64, 125]\n"
     ]
    }
   ],
   "source": [
    "list=input('enter list separated with space')\n",
    "print(list)\n",
    "nl=[]\n",
    "#for i in list.split():\n",
    "#  if i.isnumeric():\n",
    "#      nl.append(int(i))\n",
    "nl=[int(i) for i in list.split()if i.isnumeric()] #list comphrehension\n",
    "print(nl)\n",
    "#cubes of number\n",
    "cubes=[i**3 for i in nl]  #<---- this is list comphrehension\n",
    "print(cubes)\n"
   ]
  },
  {
   "cell_type": "markdown",
   "metadata": {},
   "source": [
    " #list comphrehemsion *is a way to create a list from existing list using one line expession\n",
    " \n",
    " --syntax\n",
    " ....\n",
    " newlist =[expression for item in oldlist]\n",
    "\n",
    "with condition syntax\n",
    "newlist=[expression for item in oldlist and than if condition]"
   ]
  },
  {
   "cell_type": "code",
   "execution_count": 4,
   "metadata": {},
   "outputs": [
    {
     "name": "stdout",
     "output_type": "stream",
     "text": [
      "[9, 25, 49]\n"
     ]
    }
   ],
   "source": [
    "#create a list where  every  odd element is a sqr \n",
    "x=[2,3,4,5,6,7,8]\n",
    "x2=[i**2 for i in x if i%2!=0]  #list comphrehension\n",
    "print(x2)"
   ]
  },
  {
   "cell_type": "code",
   "execution_count": null,
   "metadata": {},
   "outputs": [],
   "source": []
  }
 ],
 "metadata": {
  "kernelspec": {
   "display_name": "Python 3.9.12 ('base')",
   "language": "python",
   "name": "python3"
  },
  "language_info": {
   "codemirror_mode": {
    "name": "ipython",
    "version": 3
   },
   "file_extension": ".py",
   "mimetype": "text/x-python",
   "name": "python",
   "nbconvert_exporter": "python",
   "pygments_lexer": "ipython3",
   "version": "3.9.12"
  },
  "orig_nbformat": 4,
  "vscode": {
   "interpreter": {
    "hash": "378962d97cf1bad49541e3e73627420923816b4ab822374f9a23404e347b3a45"
   }
  }
 },
 "nbformat": 4,
 "nbformat_minor": 2
}

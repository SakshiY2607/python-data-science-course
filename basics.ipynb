{
 "cells": [
  {
   "cell_type": "code",
   "execution_count": 1,
   "metadata": {},
   "outputs": [
    {
     "name": "stdout",
     "output_type": "stream",
     "text": [
      "\n"
     ]
    }
   ],
   "source": [
    "print()"
   ]
  },
  {
   "cell_type": "code",
   "execution_count": 7,
   "metadata": {},
   "outputs": [
    {
     "name": "stdout",
     "output_type": "stream",
     "text": [
      "bruce campbell\n"
     ]
    }
   ],
   "source": [
    "print(\"bruce campbell\")"
   ]
  },
  {
   "cell_type": "markdown",
   "metadata": {},
   "source": [
    "raw output are only used for developer's understanding"
   ]
  },
  {
   "cell_type": "code",
   "execution_count": 4,
   "metadata": {},
   "outputs": [
    {
     "data": {
      "text/plain": [
       "'welcome to kingdom'"
      ]
     },
     "execution_count": 4,
     "metadata": {},
     "output_type": "execute_result"
    }
   ],
   "source": [
    "\"welcome to kingdom\""
   ]
  },
  {
   "cell_type": "code",
   "execution_count": 6,
   "metadata": {},
   "outputs": [
    {
     "data": {
      "text/plain": [
       "679"
      ]
     },
     "execution_count": 6,
     "metadata": {},
     "output_type": "execute_result"
    }
   ],
   "source": [
    "230+457-8"
   ]
  },
  {
   "cell_type": "code",
   "execution_count": 9,
   "metadata": {},
   "outputs": [
    {
     "name": "stdout",
     "output_type": "stream",
     "text": [
      "this is an apple it is a fruit i dont like apples\n"
     ]
    }
   ],
   "source": [
    "print('this is an apple', 'it is a fruit' , 'i dont like apples')"
   ]
  },
  {
   "cell_type": "code",
   "execution_count": 11,
   "metadata": {},
   "outputs": [
    {
     "name": "stdout",
     "output_type": "stream",
     "text": [
      "1,2,3,4,5,2.3,5.4\n"
     ]
    }
   ],
   "source": [
    "print('1,2,3,4,5,2.3,5.4')"
   ]
  },
  {
   "cell_type": "code",
   "execution_count": 12,
   "metadata": {},
   "outputs": [
    {
     "name": "stdout",
     "output_type": "stream",
     "text": [
      "this is python data science\n",
      "we are going to earn to do code\n",
      "and learn the secrets of python\n",
      "thats it\n"
     ]
    }
   ],
   "source": [
    "print('this is python data science')\n",
    "print('we are going to earn to do code')\n",
    "print('and learn the secrets of python')\n",
    "print('thats it')"
   ]
  },
  {
   "cell_type": "code",
   "execution_count": 13,
   "metadata": {},
   "outputs": [
    {
     "name": "stdout",
     "output_type": "stream",
     "text": [
      "this is python data science \n",
      " we are going to earn to do code\n",
      " and learn the secrets of python \n",
      " thats it \n"
     ]
    }
   ],
   "source": [
    "print('this is python data science \\n we are going to earn to do code\\n and learn the secrets of python \\n thats it ')"
   ]
  },
  {
   "cell_type": "markdown",
   "metadata": {},
   "source": [
    "using ''' we can write n number of lines ,python understoods that the  text in each line is displayed  in different line"
   ]
  },
  {
   "cell_type": "code",
   "execution_count": 15,
   "metadata": {},
   "outputs": [
    {
     "name": "stdout",
     "output_type": "stream",
     "text": [
      "\n",
      "this is python data science \n",
      " we are going to earn to do code\n",
      " and learn the secrets of python \n",
      " thats it \n",
      "\n"
     ]
    }
   ],
   "source": [
    "print('''\n",
    "this is python data science \n",
    " we are going to earn to do code\n",
    " and learn the secrets of python \n",
    " thats it \n",
    "''')"
   ]
  },
  {
   "cell_type": "code",
   "execution_count": 16,
   "metadata": {},
   "outputs": [
    {
     "name": "stdout",
     "output_type": "stream",
     "text": [
      "1/2/3/4/5/2.5/6.3\n"
     ]
    }
   ],
   "source": [
    "print(1,2,3,4,5,2.5,6.3, sep='/')"
   ]
  },
  {
   "cell_type": "code",
   "execution_count": 18,
   "metadata": {},
   "outputs": [
    {
     "name": "stdout",
     "output_type": "stream",
     "text": [
      "1😁2😁3😁4😁5😁2.5😁6.3\n"
     ]
    }
   ],
   "source": [
    "print(1,2,3,4,5,2.5,6.3, sep='😁') #for emoji press window button + ."
   ]
  },
  {
   "cell_type": "code",
   "execution_count": 20,
   "metadata": {},
   "outputs": [
    {
     "name": "stdout",
     "output_type": "stream",
     "text": [
      "this is python data science we are going to earn to do code\n",
      "and learn the secrets of python\n",
      "thats it\n"
     ]
    }
   ],
   "source": [
    "print('this is python data science' , end=' ')\n",
    "print('we are going to earn to do code')\n",
    "print('and learn the secrets of python')\n",
    "print('thats it')"
   ]
  },
  {
   "cell_type": "code",
   "execution_count": 23,
   "metadata": {},
   "outputs": [],
   "source": [
    "age=18\n",
    "name='bob'\n",
    "color2='voilet'\n",
    "is_sleeping =False"
   ]
  },
  {
   "cell_type": "code",
   "execution_count": 24,
   "metadata": {},
   "outputs": [],
   "source": [
    "name='nobita'"
   ]
  },
  {
   "cell_type": "code",
   "execution_count": 25,
   "metadata": {},
   "outputs": [],
   "source": [
    "color2 = 12"
   ]
  },
  {
   "cell_type": "markdown",
   "metadata": {},
   "source": [
    "*datatype  can be changed by changing the value of a variable*"
   ]
  },
  {
   "cell_type": "code",
   "execution_count": 1,
   "metadata": {},
   "outputs": [],
   "source": [
    "x=1\n",
    "y=3579\n",
    "z=-9857412"
   ]
  },
  {
   "cell_type": "code",
   "execution_count": 2,
   "metadata": {},
   "outputs": [],
   "source": [
    "y=1.0"
   ]
  },
  {
   "cell_type": "code",
   "execution_count": 3,
   "metadata": {},
   "outputs": [],
   "source": [
    "z=-35.59"
   ]
  },
  {
   "cell_type": "code",
   "execution_count": null,
   "metadata": {},
   "outputs": [],
   "source": [
    "z=87.7e100"
   ]
  },
  {
   "cell_type": "code",
   "execution_count": 4,
   "metadata": {},
   "outputs": [],
   "source": [
    "x=41"
   ]
  },
  {
   "cell_type": "code",
   "execution_count": 16,
   "metadata": {},
   "outputs": [],
   "source": [
    "color2='Red'\n",
    "is_sleeping=False\n",
    "age =54\n"
   ]
  },
  {
   "cell_type": "markdown",
   "metadata": {},
   "source": [
    "#del is a keyword to delete variable from memeory... we can delete multiple variable together"
   ]
  },
  {
   "cell_type": "code",
   "execution_count": 17,
   "metadata": {},
   "outputs": [],
   "source": [
    "del age,color2"
   ]
  },
  {
   "cell_type": "code",
   "execution_count": 12,
   "metadata": {},
   "outputs": [],
   "source": [
    "name =\"bruce wayne 01\"\n",
    "color = 'yellow'\n",
    "Institute = 'digipodium'"
   ]
  },
  {
   "cell_type": "code",
   "execution_count": 15,
   "metadata": {},
   "outputs": [],
   "source": [
    "is_coding = True #always write true and false with capital T & F as they r keywords\n",
    "is_fun= True\n",
    "are_u_bored =False"
   ]
  },
  {
   "cell_type": "code",
   "execution_count": 19,
   "metadata": {},
   "outputs": [],
   "source": [
    "x=None # x variable with nothing none with always begin with caps N"
   ]
  },
  {
   "cell_type": "markdown",
   "metadata": {},
   "source": [
    "- *lists are mutable \n",
    "they are represented using []*"
   ]
  },
  {
   "cell_type": "code",
   "execution_count": 21,
   "metadata": {},
   "outputs": [],
   "source": [
    "#list... \n",
    "a = [5,10,15,20,25,30,35,40]\n",
    "vals = [1,2.2 ,'python']\n",
    "colors = ['red','green',\"yelow\"]"
   ]
  },
  {
   "cell_type": "markdown",
   "metadata": {},
   "source": [
    "- *tuples are immutable... used internally by python ....represented by ()*"
   ]
  },
  {
   "cell_type": "code",
   "execution_count": 22,
   "metadata": {},
   "outputs": [],
   "source": [
    "a = (5,10,15,20,25,30,35,40)\n",
    "vals = (1,2.2 ,'python')\n",
    "colors = ('red','green',\"yelow\")"
   ]
  },
  {
   "cell_type": "markdown",
   "metadata": {},
   "source": [
    "- *sets are not ordered...have unique values..represented by {}......we can perform operations like union, intersect *"
   ]
  },
  {
   "cell_type": "code",
   "execution_count": 23,
   "metadata": {},
   "outputs": [],
   "source": [
    "a = {5,10,15,20,25,30,35,40}\n",
    "vals = {1,2.2 ,'python'}\n",
    "colors = {'red','green',\"yelow\"}"
   ]
  },
  {
   "cell_type": "markdown",
   "metadata": {},
   "source": [
    "- *dictionary - ordered collection of key-value pairs(key:value)*"
   ]
  },
  {
   "cell_type": "code",
   "execution_count": 25,
   "metadata": {},
   "outputs": [],
   "source": [
    "car_info = {\"brand\": \"ford\",\n",
    "\"model\":\"Mustang\",\n",
    "\"year\": \"1964\"}"
   ]
  },
  {
   "cell_type": "markdown",
   "metadata": {},
   "source": [
    "## input in python"
   ]
  },
  {
   "cell_type": "code",
   "execution_count": 27,
   "metadata": {},
   "outputs": [
    {
     "name": "stdout",
     "output_type": "stream",
     "text": [
      "so according to you\n",
      "your are shayesta\n",
      "and you live in lucknow\n"
     ]
    }
   ],
   "source": [
    "name = input(\"what is your name?\")\n",
    "city = input(\"in which city do you reside in?\")\n",
    "print(\"so according to you\")\n",
    "print('your are', name)\n",
    "print('and you live in',city)"
   ]
  },
  {
   "cell_type": "code",
   "execution_count": null,
   "metadata": {},
   "outputs": [],
   "source": []
  }
 ],
 "metadata": {
  "kernelspec": {
   "display_name": "Python 3.9.12 ('base')",
   "language": "python",
   "name": "python3"
  },
  "language_info": {
   "codemirror_mode": {
    "name": "ipython",
    "version": 3
   },
   "file_extension": ".py",
   "mimetype": "text/x-python",
   "name": "python",
   "nbconvert_exporter": "python",
   "pygments_lexer": "ipython3",
   "version": "3.9.12"
  },
  "orig_nbformat": 4,
  "vscode": {
   "interpreter": {
    "hash": "378962d97cf1bad49541e3e73627420923816b4ab822374f9a23404e347b3a45"
   }
  }
 },
 "nbformat": 4,
 "nbformat_minor": 2
}

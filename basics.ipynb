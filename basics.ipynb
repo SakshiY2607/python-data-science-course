{
 "cells": [
  {
   "cell_type": "code",
   "execution_count": 1,
   "metadata": {},
   "outputs": [
    {
     "name": "stdout",
     "output_type": "stream",
     "text": [
      "\n"
     ]
    }
   ],
   "source": [
    "print()"
   ]
  },
  {
   "cell_type": "code",
   "execution_count": 7,
   "metadata": {},
   "outputs": [
    {
     "name": "stdout",
     "output_type": "stream",
     "text": [
      "bruce campbell\n"
     ]
    }
   ],
   "source": [
    "print(\"bruce campbell\")"
   ]
  },
  {
   "cell_type": "markdown",
   "metadata": {},
   "source": [
    "raw output are only used for developer's understanding"
   ]
  },
  {
   "cell_type": "code",
   "execution_count": 4,
   "metadata": {},
   "outputs": [
    {
     "data": {
      "text/plain": [
       "'welcome to kingdom'"
      ]
     },
     "execution_count": 4,
     "metadata": {},
     "output_type": "execute_result"
    }
   ],
   "source": [
    "\"welcome to kingdom\""
   ]
  },
  {
   "cell_type": "code",
   "execution_count": 6,
   "metadata": {},
   "outputs": [
    {
     "data": {
      "text/plain": [
       "679"
      ]
     },
     "execution_count": 6,
     "metadata": {},
     "output_type": "execute_result"
    }
   ],
   "source": [
    "230+457-8"
   ]
  },
  {
   "cell_type": "code",
   "execution_count": 9,
   "metadata": {},
   "outputs": [
    {
     "name": "stdout",
     "output_type": "stream",
     "text": [
      "this is an apple it is a fruit i dont like apples\n"
     ]
    }
   ],
   "source": [
    "print('this is an apple', 'it is a fruit' , 'i dont like apples')"
   ]
  },
  {
   "cell_type": "code",
   "execution_count": 11,
   "metadata": {},
   "outputs": [
    {
     "name": "stdout",
     "output_type": "stream",
     "text": [
      "1,2,3,4,5,2.3,5.4\n"
     ]
    }
   ],
   "source": [
    "print('1,2,3,4,5,2.3,5.4')"
   ]
  },
  {
   "cell_type": "code",
   "execution_count": 12,
   "metadata": {},
   "outputs": [
    {
     "name": "stdout",
     "output_type": "stream",
     "text": [
      "this is python data science\n",
      "we are going to earn to do code\n",
      "and learn the secrets of python\n",
      "thats it\n"
     ]
    }
   ],
   "source": [
    "print('this is python data science')\n",
    "print('we are going to earn to do code')\n",
    "print('and learn the secrets of python')\n",
    "print('thats it')"
   ]
  },
  {
   "cell_type": "code",
   "execution_count": 13,
   "metadata": {},
   "outputs": [
    {
     "name": "stdout",
     "output_type": "stream",
     "text": [
      "this is python data science \n",
      " we are going to earn to do code\n",
      " and learn the secrets of python \n",
      " thats it \n"
     ]
    }
   ],
   "source": [
    "print('this is python data science \\n we are going to earn to do code\\n and learn the secrets of python \\n thats it ')"
   ]
  },
  {
   "cell_type": "markdown",
   "metadata": {},
   "source": [
    "using ''' we can write n number of lines ,python understoods that the  text in each line is displayed  in different line"
   ]
  },
  {
   "cell_type": "code",
   "execution_count": 15,
   "metadata": {},
   "outputs": [
    {
     "name": "stdout",
     "output_type": "stream",
     "text": [
      "\n",
      "this is python data science \n",
      " we are going to earn to do code\n",
      " and learn the secrets of python \n",
      " thats it \n",
      "\n"
     ]
    }
   ],
   "source": [
    "print('''\n",
    "this is python data science \n",
    " we are going to earn to do code\n",
    " and learn the secrets of python \n",
    " thats it \n",
    "''')"
   ]
  },
  {
   "cell_type": "code",
   "execution_count": 16,
   "metadata": {},
   "outputs": [
    {
     "name": "stdout",
     "output_type": "stream",
     "text": [
      "1/2/3/4/5/2.5/6.3\n"
     ]
    }
   ],
   "source": [
    "print(1,2,3,4,5,2.5,6.3, sep='/')"
   ]
  },
  {
   "cell_type": "code",
   "execution_count": 18,
   "metadata": {},
   "outputs": [
    {
     "name": "stdout",
     "output_type": "stream",
     "text": [
      "1😁2😁3😁4😁5😁2.5😁6.3\n"
     ]
    }
   ],
   "source": [
    "print(1,2,3,4,5,2.5,6.3, sep='😁') #for emoji press window button + ."
   ]
  },
  {
   "cell_type": "code",
   "execution_count": 20,
   "metadata": {},
   "outputs": [
    {
     "name": "stdout",
     "output_type": "stream",
     "text": [
      "this is python data science we are going to earn to do code\n",
      "and learn the secrets of python\n",
      "thats it\n"
     ]
    }
   ],
   "source": [
    "print('this is python data science' , end=' ')\n",
    "print('we are going to earn to do code')\n",
    "print('and learn the secrets of python')\n",
    "print('thats it')"
   ]
  },
  {
   "cell_type": "code",
   "execution_count": 23,
   "metadata": {},
   "outputs": [],
   "source": [
    "age=18\n",
    "name='bob'\n",
    "color2='voilet'\n",
    "is_sleeping =False"
   ]
  },
  {
   "cell_type": "code",
   "execution_count": 24,
   "metadata": {},
   "outputs": [],
   "source": [
    "name='nobita'"
   ]
  },
  {
   "cell_type": "code",
   "execution_count": 25,
   "metadata": {},
   "outputs": [],
   "source": [
    "color2 = 12"
   ]
  },
  {
   "cell_type": "markdown",
   "metadata": {},
   "source": [
    "*datatype  can be changed by changing the value of a variable*"
   ]
  },
  {
   "cell_type": "code",
   "execution_count": 1,
   "metadata": {},
   "outputs": [],
   "source": [
    "x=1\n",
    "y=3579\n",
    "z=-9857412"
   ]
  },
  {
   "cell_type": "code",
   "execution_count": 2,
   "metadata": {},
   "outputs": [],
   "source": [
    "y=1.0"
   ]
  },
  {
   "cell_type": "code",
   "execution_count": 3,
   "metadata": {},
   "outputs": [],
   "source": [
    "z=-35.59"
   ]
  },
  {
   "cell_type": "code",
   "execution_count": null,
   "metadata": {},
   "outputs": [],
   "source": [
    "z=87.7e100"
   ]
  },
  {
   "cell_type": "code",
   "execution_count": 4,
   "metadata": {},
   "outputs": [],
   "source": [
    "x=41"
   ]
  },
  {
   "cell_type": "code",
   "execution_count": 16,
   "metadata": {},
   "outputs": [],
   "source": [
    "color2='Red'\n",
    "is_sleeping=False\n",
    "age =54\n"
   ]
  },
  {
   "cell_type": "markdown",
   "metadata": {},
   "source": [
    "#del is a keyword to delete variable from memeory... we can delete multiple variable together"
   ]
  },
  {
   "cell_type": "code",
   "execution_count": 17,
   "metadata": {},
   "outputs": [],
   "source": [
    "del age,color2"
   ]
  },
  {
   "cell_type": "code",
   "execution_count": 12,
   "metadata": {},
   "outputs": [],
   "source": [
    "name =\"bruce wayne 01\"\n",
    "color = 'yellow'\n",
    "Institute = 'digipodium'"
   ]
  },
  {
   "cell_type": "code",
   "execution_count": 15,
   "metadata": {},
   "outputs": [],
   "source": [
    "is_coding = True #always write true and false with capital T & F as they r keywords\n",
    "is_fun= True\n",
    "are_u_bored =False"
   ]
  },
  {
   "cell_type": "code",
   "execution_count": 19,
   "metadata": {},
   "outputs": [],
   "source": [
    "x=None # x variable with nothing none with always begin with caps N"
   ]
  },
  {
   "cell_type": "markdown",
   "metadata": {},
   "source": [
    "- *lists are mutable \n",
    "they are represented using []*"
   ]
  },
  {
   "cell_type": "code",
   "execution_count": 21,
   "metadata": {},
   "outputs": [],
   "source": [
    "#list... \n",
    "a = [5,10,15,20,25,30,35,40]\n",
    "vals = [1,2.2 ,'python']\n",
    "colors = ['red','green',\"yelow\"]"
   ]
  },
  {
   "cell_type": "markdown",
   "metadata": {},
   "source": [
    "- *tuples are immutable... used internally by python ....represented by ()*"
   ]
  },
  {
   "cell_type": "code",
   "execution_count": 22,
   "metadata": {},
   "outputs": [],
   "source": [
    "a = (5,10,15,20,25,30,35,40)\n",
    "vals = (1,2.2 ,'python')\n",
    "colors = ('red','green',\"yelow\")"
   ]
  },
  {
   "cell_type": "markdown",
   "metadata": {},
   "source": []
  },
  {
   "cell_type": "markdown",
   "metadata": {},
   "source": [
    "- *sets are not ordered...have unique values..represented by {}......we can perform operations like union, intersect *"
   ]
  },
  {
   "cell_type": "code",
   "execution_count": 23,
   "metadata": {},
   "outputs": [],
   "source": [
    "a = {5,10,15,20,25,30,35,40}\n",
    "vals = {1,2.2 ,'python'}\n",
    "colors = {'red','green',\"yelow\"}"
   ]
  },
  {
   "cell_type": "markdown",
   "metadata": {},
   "source": [
    "- *dictionary - ordered collection of key-value pairs(key:value)*"
   ]
  },
  {
   "cell_type": "code",
   "execution_count": 25,
   "metadata": {},
   "outputs": [],
   "source": [
    "car_info = {\"brand\": \"ford\",\n",
    "\"model\":\"Mustang\",\n",
    "\"year\": \"1964\"}"
   ]
  },
  {
   "cell_type": "markdown",
   "metadata": {},
   "source": [
    "## input in python"
   ]
  },
  {
   "cell_type": "code",
   "execution_count": 27,
   "metadata": {},
   "outputs": [
    {
     "name": "stdout",
     "output_type": "stream",
     "text": [
      "so according to you\n",
      "your are shayesta\n",
      "and you live in lucknow\n"
     ]
    }
   ],
   "source": [
    "name = input(\"what is your name?\")\n",
    "city = input(\"in which city do you reside in?\")\n",
    "print(\"so according to you\")\n",
    "print('your are', name)\n",
    "print('and you live in',city)"
   ]
  },
  {
   "cell_type": "markdown",
   "metadata": {},
   "source": [
    "## Operators"
   ]
  },
  {
   "cell_type": "code",
   "execution_count": 8,
   "metadata": {},
   "outputs": [
    {
     "name": "stdout",
     "output_type": "stream",
     "text": [
      "13\n",
      "7\n",
      "3.3333333333333335\n",
      "30\n"
     ]
    }
   ],
   "source": [
    "# ARITHMETIC OPERATORS\n",
    "a=10\n",
    "b=3\n",
    "print(a+b) #add\n",
    "print(a-b)#sub\n",
    "print(a/b)#float div\n",
    "print(a*b)#mul\n",
    "\n"
   ]
  },
  {
   "cell_type": "code",
   "execution_count": 9,
   "metadata": {},
   "outputs": [
    {
     "name": "stdout",
     "output_type": "stream",
     "text": [
      "3\n"
     ]
    }
   ],
   "source": [
    "print(a//b) #int div"
   ]
  },
  {
   "cell_type": "code",
   "execution_count": 15,
   "metadata": {},
   "outputs": [
    {
     "name": "stdout",
     "output_type": "stream",
     "text": [
      "3\n",
      "4\n",
      "1000\n"
     ]
    }
   ],
   "source": [
    "print(23%5) #remainder\n",
    "print(23//5)#quotient\n",
    "print(a**b)"
   ]
  },
  {
   "cell_type": "code",
   "execution_count": 14,
   "metadata": {},
   "outputs": [
    {
     "data": {
      "text/plain": [
       "32"
      ]
     },
     "execution_count": 14,
     "metadata": {},
     "output_type": "execute_result"
    }
   ],
   "source": [
    "2**5 #power or exponential"
   ]
  },
  {
   "cell_type": "code",
   "execution_count": 32,
   "metadata": {},
   "outputs": [],
   "source": [
    "# assignment operator\n",
    "a=10\n",
    "b=5\n",
    "c=3\n",
    "\n",
    "#alternate way to assign a value to a variable\n",
    "x, y, z= 10, 20, 30"
   ]
  },
  {
   "cell_type": "code",
   "execution_count": 33,
   "metadata": {},
   "outputs": [],
   "source": [
    "a+=2 #update a with a+2\n",
    "b-=4\n",
    "c*=3\n",
    "x/=5\n",
    "a**=2\n",
    "x//=1"
   ]
  },
  {
   "cell_type": "code",
   "execution_count": 38,
   "metadata": {},
   "outputs": [
    {
     "name": "stdout",
     "output_type": "stream",
     "text": [
      "False\n",
      "True\n",
      "False\n",
      "False\n",
      "True\n",
      "True\n"
     ]
    }
   ],
   "source": [
    "#comparison operators\n",
    "print(a==b)\n",
    "print(a>b)\n",
    "print(a<b)\n",
    "print(a<=b)\n",
    "print(a>=b)\n",
    "print(a!=b)"
   ]
  },
  {
   "cell_type": "code",
   "execution_count": 44,
   "metadata": {},
   "outputs": [
    {
     "name": "stdout",
     "output_type": "stream",
     "text": [
      "True\n",
      "False\n",
      "True\n",
      "True\n",
      "False\n",
      "True\n",
      "False\n",
      "False\n"
     ]
    }
   ],
   "source": [
    "#logical operators(and,or,not)\n",
    "print(a>b and a>5)\n",
    "print(a<b and a>5)\n",
    "print(a>b or a>5)\n",
    "print(a<b or a>5)\n",
    "print(a<b or a<5)\n",
    "print(not a<b)\n",
    "print(not a >b)\n",
    "print(not a and not b and not c)"
   ]
  },
  {
   "cell_type": "code",
   "execution_count": 46,
   "metadata": {},
   "outputs": [
    {
     "name": "stdout",
     "output_type": "stream",
     "text": [
      "True\n",
      "False\n",
      "False\n",
      "True\n",
      "True\n",
      "False\n"
     ]
    }
   ],
   "source": [
    "# memership operators(in)\n",
    "\n",
    "colors =['red','blue','green','yellow','orange']\n",
    "print ('red' in colors)\n",
    "print ('Red' in colors)\n",
    "print ('RED' in colors)\n",
    "print ('blue' in colors)\n",
    "print ('yellow' in colors)\n",
    "print('purple'in colors)"
   ]
  },
  {
   "cell_type": "code",
   "execution_count": 47,
   "metadata": {},
   "outputs": [
    {
     "name": "stdout",
     "output_type": "stream",
     "text": [
      "True\n",
      "False\n"
     ]
    }
   ],
   "source": [
    "msg = \"Its the journey that matters\"\n",
    "print('journey'in msg)\n",
    "print('destination' in msg)"
   ]
  },
  {
   "cell_type": "markdown",
   "metadata": {},
   "source": [
    "- *is operator checks whether two objects belong to same memory location or not* "
   ]
  },
  {
   "cell_type": "markdown",
   "metadata": {},
   "source": [
    "QUESTIONS:\n",
    "- wap to calculate the area of a circle\n",
    "- wap to calculate the area of a rectangle\n",
    "- wap to calculate the area of a triangle\n",
    "- wap to calculate the hypotenus using perpendicular and base\n",
    "- wap to calculate the factorial of 5\n"
   ]
  },
  {
   "cell_type": "code",
   "execution_count": 58,
   "metadata": {},
   "outputs": [
    {
     "name": "stdout",
     "output_type": "stream",
     "text": [
      "12.56 for a circle with radius 2\n"
     ]
    }
   ],
   "source": [
    "#area of circle\n",
    "r=2\n",
    "print(3.14*r*r, 'for a circle with radius',r)"
   ]
  },
  {
   "cell_type": "code",
   "execution_count": 54,
   "metadata": {},
   "outputs": [
    {
     "name": "stdout",
     "output_type": "stream",
     "text": [
      "50\n"
     ]
    }
   ],
   "source": [
    "#area of rectangle\n",
    "l, b =10, 5\n",
    "print(l*b)"
   ]
  },
  {
   "cell_type": "code",
   "execution_count": 62,
   "metadata": {},
   "outputs": [
    {
     "name": "stdout",
     "output_type": "stream",
     "text": [
      "452.16 for a circle with radius 12.0\n"
     ]
    }
   ],
   "source": [
    "r=float(input(\"enter the radius of the circle:\")) #EXPLICIT CONVERSION OF R TO FLOAT\n",
    "area=3.14*r**2\n",
    "print(area,'for a circle with radius',r)"
   ]
  },
  {
   "cell_type": "code",
   "execution_count": 55,
   "metadata": {},
   "outputs": [
    {
     "name": "stdout",
     "output_type": "stream",
     "text": [
      "15.0\n"
     ]
    }
   ],
   "source": [
    "#area of triangle\n",
    "base=10\n",
    "h=3\n",
    "print(0.5*base*h)"
   ]
  },
  {
   "cell_type": "code",
   "execution_count": 67,
   "metadata": {},
   "outputs": [
    {
     "name": "stdout",
     "output_type": "stream",
     "text": [
      "hypotenuse is 5.385164807134505\n"
     ]
    }
   ],
   "source": [
    "#hypotenus using perpendicular and base\n",
    "p=float(input('enter perpendicular'))\n",
    "b=float(input('enter base'))\n",
    "h=math.hypot(p,b) #for list of math functions press ctrl+space after typing math.\n",
    "print('hypotenuse is', h)"
   ]
  },
  {
   "cell_type": "code",
   "execution_count": 68,
   "metadata": {},
   "outputs": [
    {
     "name": "stdout",
     "output_type": "stream",
     "text": [
      "Factorial is  3628800\n"
     ]
    }
   ],
   "source": [
    "#factorial of 5\n",
    "num = int(input('enter a number'))\n",
    "fact = math.factorial(num)\n",
    "print('Factorial is ',fact)"
   ]
  },
  {
   "cell_type": "code",
   "execution_count": 63,
   "metadata": {},
   "outputs": [],
   "source": [
    "import math"
   ]
  },
  {
   "cell_type": "code",
   "execution_count": 64,
   "metadata": {},
   "outputs": [
    {
     "data": {
      "text/plain": [
       "3.141592653589793"
      ]
     },
     "execution_count": 64,
     "metadata": {},
     "output_type": "execute_result"
    }
   ],
   "source": [
    "math.pi"
   ]
  },
  {
   "cell_type": "code",
   "execution_count": 69,
   "metadata": {},
   "outputs": [
    {
     "name": "stdout",
     "output_type": "stream",
     "text": [
      "['__doc__', '__loader__', '__name__', '__package__', '__spec__', 'acos', 'acosh', 'asin', 'asinh', 'atan', 'atan2', 'atanh', 'ceil', 'comb', 'copysign', 'cos', 'cosh', 'degrees', 'dist', 'e', 'erf', 'erfc', 'exp', 'expm1', 'fabs', 'factorial', 'floor', 'fmod', 'frexp', 'fsum', 'gamma', 'gcd', 'hypot', 'inf', 'isclose', 'isfinite', 'isinf', 'isnan', 'isqrt', 'lcm', 'ldexp', 'lgamma', 'log', 'log10', 'log1p', 'log2', 'modf', 'nan', 'nextafter', 'perm', 'pi', 'pow', 'prod', 'radians', 'remainder', 'sin', 'sinh', 'sqrt', 'tan', 'tanh', 'tau', 'trunc', 'ulp']\n"
     ]
    }
   ],
   "source": [
    "print(dir(math))"
   ]
  },
  {
   "cell_type": "code",
   "execution_count": 77,
   "metadata": {},
   "outputs": [
    {
     "name": "stdout",
     "output_type": "stream",
     "text": [
      "compound interest is 2315.2500000000005\n",
      "amount is 4315.25\n"
     ]
    }
   ],
   "source": [
    "#compound interest\n",
    "princi=float(input(\"enter principal\"))\n",
    "rate=float(input(\"enter rate of interest\"))\n",
    "time=float(input(\"enter time\"))\n",
    "ci = princi*(math.pow((1+(rate/100)),time))\n",
    "print('compound interest is',ci)\n",
    "print('amount is',ci+princi)\n"
   ]
  },
  {
   "cell_type": "code",
   "execution_count": null,
   "metadata": {},
   "outputs": [],
   "source": []
  }
 ],
 "metadata": {
  "kernelspec": {
   "display_name": "Python 3.9.12 ('base')",
   "language": "python",
   "name": "python3"
  },
  "language_info": {
   "codemirror_mode": {
    "name": "ipython",
    "version": 3
   },
   "file_extension": ".py",
   "mimetype": "text/x-python",
   "name": "python",
   "nbconvert_exporter": "python",
   "pygments_lexer": "ipython3",
   "version": "3.9.12"
  },
  "orig_nbformat": 4,
  "vscode": {
   "interpreter": {
    "hash": "378962d97cf1bad49541e3e73627420923816b4ab822374f9a23404e347b3a45"
   }
  }
 },
 "nbformat": 4,
 "nbformat_minor": 2
}

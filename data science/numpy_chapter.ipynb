{
 "cells": [
  {
   "cell_type": "code",
   "execution_count": 1,
   "metadata": {},
   "outputs": [],
   "source": [
    "import numpy as np"
   ]
  },
  {
   "cell_type": "code",
   "execution_count": 9,
   "metadata": {},
   "outputs": [
    {
     "name": "stdout",
     "output_type": "stream",
     "text": [
      "[1 2 3 4 5]\n",
      "<class 'numpy.ndarray'>\n"
     ]
    }
   ],
   "source": [
    "#creation of numpy array\n",
    "x=np.array([1,2,3,4,5])\n",
    "print(x)\n",
    "print(type(x)) #ndarray"
   ]
  },
  {
   "cell_type": "code",
   "execution_count": 10,
   "metadata": {},
   "outputs": [
    {
     "name": "stdout",
     "output_type": "stream",
     "text": [
      "5\n",
      "(5,)\n",
      "1\n"
     ]
    }
   ],
   "source": [
    "#shape  and size\n",
    "print(x.size)\n",
    "print(x.shape) #dimension\n",
    "print(x.ndim) #number of dimensions"
   ]
  },
  {
   "cell_type": "code",
   "execution_count": 11,
   "metadata": {},
   "outputs": [
    {
     "name": "stdout",
     "output_type": "stream",
     "text": [
      "[[1 2 3]\n",
      " [4 5 6]]\n",
      "6\n",
      "(2, 3)\n",
      "2\n"
     ]
    }
   ],
   "source": [
    "x2d=np.array([[1,2,3],[4,5,6]])\n",
    "print(x2d)\n",
    "#shape  and size\n",
    "print(x2d.size)\n",
    "print(x2d.shape) #dimension\n",
    "print(x2d.ndim) #number of dimensions"
   ]
  },
  {
   "cell_type": "code",
   "execution_count": 12,
   "metadata": {},
   "outputs": [
    {
     "name": "stdout",
     "output_type": "stream",
     "text": [
      "[[36 51 40 63 96]\n",
      " [80 72 50 38 87]\n",
      " [39 99 38 79  7]\n",
      " [86 27 69 57 43]\n",
      " [85 45 42 47  3]]\n"
     ]
    }
   ],
   "source": [
    "x25=np.random.randint(1,100,(5,5)) #randint(start,stop,size (always in tuple))\n",
    "print(x25)"
   ]
  },
  {
   "cell_type": "code",
   "execution_count": 19,
   "metadata": {},
   "outputs": [
    {
     "name": "stdout",
     "output_type": "stream",
     "text": [
      "25 elements\n",
      "=>1D MATRIX\n",
      "[ 1  5  9 13 17 21 25 29 33 37 41 45 49 53 57 61 65 69 73 77 81 85 89 93\n",
      " 97]\n",
      "=>1D MATRIX RESHAPED TO 2D\n",
      "[[ 1  5  9 13 17]\n",
      " [21 25 29 33 37]\n",
      " [41 45 49 53 57]\n",
      " [61 65 69 73 77]\n",
      " [81 85 89 93 97]]\n"
     ]
    }
   ],
   "source": [
    "xseq1=np.arange(1,101,4)#arange=advanced range\n",
    "print(xseq1.size,'elements')\n",
    "print('=>1D MATRIX')\n",
    "print(xseq1)\n",
    "print('=>1D MATRIX RESHAPED TO 2D')\n",
    "\n",
    "print(xseq1.reshape(5,5)) #RETURNS MATRIX OF 5*5\n"
   ]
  },
  {
   "cell_type": "code",
   "execution_count": null,
   "metadata": {},
   "outputs": [],
   "source": [
    "xseq2=np.linspace(1,100,50) #linspace(start,end,number of elements b/w the start and end value)\n",
    "print(xseq2.size,'elements')\n",
    "print('=>1D MATRIX')\n",
    "print(xseq2)\n",
    "print('=>1D MATRIX RESHAPED TO 2D')\n",
    "print(xseq2.reshape(10,5))\n",
    "print('=>1D MATRIX REHSAPED TO 3D')\n",
    "print(xseq2.reshape(5,5,2))\n",
    "\n"
   ]
  },
  {
   "cell_type": "code",
   "execution_count": 24,
   "metadata": {},
   "outputs": [
    {
     "name": "stdout",
     "output_type": "stream",
     "text": [
      "[[  1.           3.02040816   5.04081633   7.06122449   9.08163265]\n",
      " [ 11.10204082  13.12244898  15.14285714  17.16326531  19.18367347]\n",
      " [ 21.20408163  23.2244898   25.24489796  27.26530612  29.28571429]\n",
      " [ 31.30612245  33.32653061  35.34693878  37.36734694  39.3877551 ]\n",
      " [ 41.40816327  43.42857143  45.44897959  47.46938776  49.48979592]\n",
      " [ 51.51020408  53.53061224  55.55102041  57.57142857  59.59183673]\n",
      " [ 61.6122449   63.63265306  65.65306122  67.67346939  69.69387755]\n",
      " [ 71.71428571  73.73469388  75.75510204  77.7755102   79.79591837]\n",
      " [ 81.81632653  83.83673469  85.85714286  87.87755102  89.89795918]\n",
      " [ 91.91836735  93.93877551  95.95918367  97.97959184 100.        ]]\n"
     ]
    }
   ],
   "source": [
    "xseq2d=xseq2.reshape(10,5)\n",
    "print(xseq2d)"
   ]
  },
  {
   "cell_type": "code",
   "execution_count": 28,
   "metadata": {},
   "outputs": [
    {
     "data": {
      "text/plain": [
       "array([[1, 1, 1, 1, 1],\n",
       "       [1, 1, 1, 1, 1],\n",
       "       [1, 1, 1, 1, 1],\n",
       "       [1, 1, 1, 1, 1],\n",
       "       [1, 1, 1, 1, 1]])"
      ]
     },
     "execution_count": 28,
     "metadata": {},
     "output_type": "execute_result"
    }
   ],
   "source": [
    "np.ones((5,5),dtype='int')"
   ]
  },
  {
   "cell_type": "markdown",
   "metadata": {},
   "source": [
    "- indexing and slicing\n",
    "- boolean filter\n",
    "- maths and stats\n",
    "- methods"
   ]
  },
  {
   "cell_type": "code",
   "execution_count": 31,
   "metadata": {},
   "outputs": [
    {
     "data": {
      "text/plain": [
       "array([[36, 51, 40, 63, 96],\n",
       "       [80, 72, 50, 38, 87],\n",
       "       [39, 99, 38, 79,  7],\n",
       "       [86, 27, 69, 57, 43],\n",
       "       [85, 45, 42, 47,  3]])"
      ]
     },
     "execution_count": 31,
     "metadata": {},
     "output_type": "execute_result"
    }
   ],
   "source": [
    "x25"
   ]
  },
  {
   "cell_type": "code",
   "execution_count": 32,
   "metadata": {},
   "outputs": [
    {
     "name": "stdout",
     "output_type": "stream",
     "text": [
      "[36 51 40 63 96]\n"
     ]
    }
   ],
   "source": [
    "#first row\n",
    "print(x25[0])"
   ]
  },
  {
   "cell_type": "code",
   "execution_count": 33,
   "metadata": {},
   "outputs": [
    {
     "name": "stdout",
     "output_type": "stream",
     "text": [
      "[85 45 42 47  3]\n"
     ]
    }
   ],
   "source": [
    "#last row\n",
    "print(x25[-1])"
   ]
  },
  {
   "cell_type": "code",
   "execution_count": 35,
   "metadata": {},
   "outputs": [
    {
     "name": "stdout",
     "output_type": "stream",
     "text": [
      "51\n"
     ]
    }
   ],
   "source": [
    "print(x25[0,1]) #same as print(x25[0][1]) #for second element of the first row"
   ]
  },
  {
   "cell_type": "code",
   "execution_count": 40,
   "metadata": {},
   "outputs": [
    {
     "name": "stdout",
     "output_type": "stream",
     "text": [
      "[36 80 39 86 85]\n",
      "[51 72 99 27 45]\n"
     ]
    }
   ],
   "source": [
    "#first column\n",
    "print(x25[:, 0]) \n",
    "#values of 2 value\n",
    "print(x25[:,1])"
   ]
  },
  {
   "cell_type": "code",
   "execution_count": 42,
   "metadata": {},
   "outputs": [
    {
     "name": "stdout",
     "output_type": "stream",
     "text": [
      "[[36 51 40]\n",
      " [80 72 50]\n",
      " [39 99 38]\n",
      " [86 27 69]\n",
      " [85 45 42]]\n",
      "[63 38 79 57 47]\n"
     ]
    }
   ],
   "source": [
    "#column 0 and 1 index\n",
    "print(x25[:,[0,1,2]])#[row:,col]\n",
    "#same\n",
    "print(x25[:,3])"
   ]
  },
  {
   "cell_type": "code",
   "execution_count": 48,
   "metadata": {},
   "outputs": [],
   "source": [
    "#print values below 20\n",
    "#for i in x25:\n",
    " #   for j in i:\n",
    "  #      if j<=20:\n",
    "   #         print(j)\n",
    "   "
   ]
  },
  {
   "cell_type": "markdown",
   "metadata": {},
   "source": []
  },
  {
   "cell_type": "code",
   "execution_count": 50,
   "metadata": {},
   "outputs": [
    {
     "name": "stdout",
     "output_type": "stream",
     "text": [
      "7\n",
      "3\n"
     ]
    }
   ],
   "source": [
    "#filtering data without numpy boolean filter(bad idea)\n",
    "for i in x25:\n",
    "    for j in i:\n",
    "        if j<=20:\n",
    "            print(j)"
   ]
  },
  {
   "cell_type": "code",
   "execution_count": 51,
   "metadata": {},
   "outputs": [
    {
     "data": {
      "text/plain": [
       "array([[False, False, False, False, False],\n",
       "       [False, False, False, False, False],\n",
       "       [False, False, False, False,  True],\n",
       "       [False, False, False, False, False],\n",
       "       [False, False, False, False,  True]])"
      ]
     },
     "execution_count": 51,
     "metadata": {},
     "output_type": "execute_result"
    }
   ],
   "source": [
    "x25<=20 #boolean filter"
   ]
  },
  {
   "cell_type": "code",
   "execution_count": 53,
   "metadata": {},
   "outputs": [
    {
     "data": {
      "text/plain": [
       "array([7, 3])"
      ]
     },
     "execution_count": 53,
     "metadata": {},
     "output_type": "execute_result"
    }
   ],
   "source": [
    "x25[x25<=20] #will print only the data in the matrix that satisfies the condition written inside it"
   ]
  },
  {
   "cell_type": "code",
   "execution_count": 56,
   "metadata": {},
   "outputs": [
    {
     "data": {
      "text/plain": [
       "array([36, 51, 40, 63, 50, 38, 39, 38, 27, 69, 57, 43, 45, 42, 47])"
      ]
     },
     "execution_count": 56,
     "metadata": {},
     "output_type": "execute_result"
    }
   ],
   "source": [
    "x25[(x25>20)&(x25<70)] # elements greater than 20 but less than 70"
   ]
  },
  {
   "cell_type": "markdown",
   "metadata": {},
   "source": [
    "- *_to append data we use np.append_*\n",
    "\n"
   ]
  },
  {
   "cell_type": "code",
   "execution_count": 58,
   "metadata": {},
   "outputs": [
    {
     "data": {
      "text/plain": [
       "array([36, 51, 40, 63, 96, 80, 72, 50, 38, 87, 39, 99, 38, 79,  7, 86, 27,\n",
       "       69, 57, 43, 85, 45, 42, 47,  3,  1,  2,  3,  4,  5])"
      ]
     },
     "execution_count": 58,
     "metadata": {},
     "output_type": "execute_result"
    }
   ],
   "source": [
    "np.append(x25,[1,2,3,4,5])#not gives  answer as expected ,but works"
   ]
  },
  {
   "cell_type": "code",
   "execution_count": 70,
   "metadata": {},
   "outputs": [
    {
     "data": {
      "text/plain": [
       "array([[36, 51, 40, 63, 96],\n",
       "       [80, 72, 50, 38, 87],\n",
       "       [39, 99, 38, 79,  7],\n",
       "       [86, 27, 69, 57, 43],\n",
       "       [85, 45, 42, 47,  3],\n",
       "       [ 1,  2,  3,  4,  5]])"
      ]
     },
     "execution_count": 70,
     "metadata": {},
     "output_type": "execute_result"
    }
   ],
   "source": [
    "np.append(x25,np.array([[1,2,3,4,5]]),axis=0) #one row of a gieven elements gets added\n",
    "#[[]]->means 2d array #axis=0 will add data row wise and if axis =1 then data will be added column wise\n",
    "#since x25 is already a 2d array so we are suppose to give 2d array to be appended\n"
   ]
  },
  {
   "cell_type": "code",
   "execution_count": 69,
   "metadata": {},
   "outputs": [
    {
     "data": {
      "text/plain": [
       "array([[36, 51, 40, 63, 96,  1],\n",
       "       [80, 72, 50, 38, 87,  2],\n",
       "       [39, 99, 38, 79,  7,  3],\n",
       "       [86, 27, 69, 57, 43,  4],\n",
       "       [85, 45, 42, 47,  3,  5]])"
      ]
     },
     "execution_count": 69,
     "metadata": {},
     "output_type": "execute_result"
    }
   ],
   "source": [
    "np.append(x25,np.array([[1],[2],[3],[4],[5]]),axis=1)\n"
   ]
  },
  {
   "cell_type": "code",
   "execution_count": 73,
   "metadata": {},
   "outputs": [],
   "source": [
    "a=np.random.randint(1,100,(3,2))\n",
    "b=np.random.randint(1,100,(2,3))"
   ]
  },
  {
   "cell_type": "markdown",
   "metadata": {},
   "source": [
    "- # a.transpose and a.T are the same thing"
   ]
  },
  {
   "cell_type": "code",
   "execution_count": 74,
   "metadata": {},
   "outputs": [
    {
     "data": {
      "text/plain": [
       "array([[ 1, 35, 39],\n",
       "       [59, 25, 22]])"
      ]
     },
     "execution_count": 74,
     "metadata": {},
     "output_type": "execute_result"
    }
   ],
   "source": [
    "a.T"
   ]
  },
  {
   "cell_type": "code",
   "execution_count": 76,
   "metadata": {},
   "outputs": [
    {
     "data": {
      "text/plain": [
       "array([[ 1, 35, 39, 31, 76,  9],\n",
       "       [59, 25, 22, 31,  5, 15]])"
      ]
     },
     "execution_count": 76,
     "metadata": {},
     "output_type": "execute_result"
    }
   ],
   "source": [
    "np.hstack((a.T,b))"
   ]
  },
  {
   "cell_type": "code",
   "execution_count": 78,
   "metadata": {},
   "outputs": [
    {
     "data": {
      "text/plain": [
       "array([[ 1, 59, 31, 31],\n",
       "       [35, 25, 76,  5],\n",
       "       [39, 22,  9, 15]])"
      ]
     },
     "execution_count": 78,
     "metadata": {},
     "output_type": "execute_result"
    }
   ],
   "source": [
    "np.hstack((a,b.T))"
   ]
  },
  {
   "cell_type": "code",
   "execution_count": 80,
   "metadata": {},
   "outputs": [
    {
     "name": "stdout",
     "output_type": "stream",
     "text": [
      "[[ 1 59]\n",
      " [35 25]\n",
      " [39 22]\n",
      " [31 31]\n",
      " [76  5]\n",
      " [ 9 15]]\n",
      "[[ 1 35 39]\n",
      " [59 25 22]\n",
      " [31 76  9]\n",
      " [31  5 15]]\n"
     ]
    }
   ],
   "source": [
    "print(np.vstack((a,b.T))) # vstack= vertical stack\n",
    "print(np.vstack((a.T,b)))"
   ]
  },
  {
   "cell_type": "code",
   "execution_count": 82,
   "metadata": {},
   "outputs": [
    {
     "name": "stdout",
     "output_type": "stream",
     "text": [
      "[[ 1 59 31 31]\n",
      " [35 25 76  5]\n",
      " [39 22  9 15]]\n",
      "[[ 1 35 39 31 76  9]\n",
      " [59 25 22 31  5 15]]\n"
     ]
    }
   ],
   "source": [
    "print(np.hstack((a,b.T))) # hstack= horizontal stack\n",
    "print(np.hstack((a.T,b)))"
   ]
  },
  {
   "cell_type": "markdown",
   "metadata": {},
   "source": [
    "- we are not required to apply any loop for adding the matrix ae can simply we can place +"
   ]
  },
  {
   "cell_type": "code",
   "execution_count": 2,
   "metadata": {},
   "outputs": [
    {
     "name": "stdout",
     "output_type": "stream",
     "text": [
      "[[4 9 8]\n",
      " [2 3 2]\n",
      " [2 3 3]]\n",
      "\n",
      "[[6 6 5]\n",
      " [7 3 1]\n",
      " [9 3 9]]\n"
     ]
    }
   ],
   "source": [
    "x=np.random.randint(1,10,(3,3))\n",
    "y=np.random.randint(1,10,(3,3))\n",
    "print(x)\n",
    "print()\n",
    "print(y)"
   ]
  },
  {
   "cell_type": "code",
   "execution_count": 3,
   "metadata": {},
   "outputs": [
    {
     "name": "stdout",
     "output_type": "stream",
     "text": [
      "add\n",
      "[[10 15 13]\n",
      " [ 9  6  3]\n",
      " [11  6 12]]\n",
      "sub\n",
      "[[-2  3  3]\n",
      " [-5  0  1]\n",
      " [-7  0 -6]]\n",
      "div\n",
      "[[0.66666667 1.5        1.6       ]\n",
      " [0.28571429 1.         2.        ]\n",
      " [0.22222222 1.         0.33333333]]\n",
      "element wise multiplication\n",
      "[[24 54 40]\n",
      " [14  9  2]\n",
      " [18  9 27]]\n",
      "element wise mod\n",
      "[[4 3 3]\n",
      " [2 0 0]\n",
      " [2 0 3]]\n"
     ]
    }
   ],
   "source": [
    "print('add')\n",
    "print(x+y)\n",
    "print('sub')\n",
    "print(x-y)\n",
    "print('div')\n",
    "print(x/y)\n",
    "print('element wise multiplication')\n",
    "print(x*y)\n",
    "print('element wise mod')\n",
    "print(x%y)"
   ]
  },
  {
   "cell_type": "code",
   "execution_count": 6,
   "metadata": {},
   "outputs": [
    {
     "name": "stdout",
     "output_type": "stream",
     "text": [
      "[[159  75 101]\n",
      " [ 51  27  31]\n",
      " [ 60  30  40]]\n",
      "\n"
     ]
    }
   ],
   "source": [
    "print(x.dot(y))\n",
    "print()\n"
   ]
  },
  {
   "cell_type": "code",
   "execution_count": 8,
   "metadata": {},
   "outputs": [
    {
     "data": {
      "text/plain": [
       "array([ 8, 15, 13])"
      ]
     },
     "execution_count": 8,
     "metadata": {},
     "output_type": "execute_result"
    }
   ],
   "source": [
    "x.sum(axis=0) #row wise sum"
   ]
  },
  {
   "cell_type": "code",
   "execution_count": 9,
   "metadata": {},
   "outputs": [
    {
     "data": {
      "text/plain": [
       "array([21,  7,  8])"
      ]
     },
     "execution_count": 9,
     "metadata": {},
     "output_type": "execute_result"
    }
   ],
   "source": [
    "x.sum(axis=1)#column wise sum"
   ]
  },
  {
   "cell_type": "code",
   "execution_count": 11,
   "metadata": {},
   "outputs": [
    {
     "name": "stdout",
     "output_type": "stream",
     "text": [
      "4.0\n",
      "[2.66666667 5.         4.33333333]\n",
      "[7.         2.33333333 2.66666667]\n"
     ]
    }
   ],
   "source": [
    "print(x.mean())\n",
    "print(x.mean(axis=0)) #row\n",
    "print(x.mean(axis=1))#col"
   ]
  },
  {
   "cell_type": "code",
   "execution_count": 12,
   "metadata": {},
   "outputs": [
    {
     "data": {
      "text/plain": [
       "array([[4, 9, 8],\n",
       "       [2, 3, 2],\n",
       "       [2, 3, 3]])"
      ]
     },
     "execution_count": 12,
     "metadata": {},
     "output_type": "execute_result"
    }
   ],
   "source": [
    "x\n"
   ]
  },
  {
   "cell_type": "code",
   "execution_count": 14,
   "metadata": {},
   "outputs": [
    {
     "name": "stdout",
     "output_type": "stream",
     "text": [
      "9\n",
      "2\n",
      "1\n",
      "3\n",
      "3\n"
     ]
    }
   ],
   "source": [
    "print(x.max())#max value\n",
    "print(x.min())#min value\n",
    "print(x.argmax())#index of max value\n",
    "print(x.argmin())#index of min value\n",
    "print(x.flatten()[4])# accessing the index value givenn by argmax()"
   ]
  },
  {
   "cell_type": "code",
   "execution_count": 15,
   "metadata": {},
   "outputs": [
    {
     "data": {
      "text/plain": [
       "3.0"
      ]
     },
     "execution_count": 15,
     "metadata": {},
     "output_type": "execute_result"
    }
   ],
   "source": [
    "np.median(x) #some function are called using np ,if not available through the variable"
   ]
  },
  {
   "cell_type": "markdown",
   "metadata": {},
   "source": [
    "\n",
    "- excel is made of c++\n",
    "- pandas will do majority of the work\n",
    "- file is csv becoz file will open on excel . csv means comma separated values. its called csv bcoz ita has comma separated data.\n",
    "- this can even open in notepad as well in  vscode if u  wnat"
   ]
  },
  {
   "cell_type": "code",
   "execution_count": null,
   "metadata": {},
   "outputs": [],
   "source": []
  }
 ],
 "metadata": {
  "kernelspec": {
   "display_name": "Python 3.9.12 ('base')",
   "language": "python",
   "name": "python3"
  },
  "language_info": {
   "codemirror_mode": {
    "name": "ipython",
    "version": 3
   },
   "file_extension": ".py",
   "mimetype": "text/x-python",
   "name": "python",
   "nbconvert_exporter": "python",
   "pygments_lexer": "ipython3",
   "version": "3.9.12"
  },
  "orig_nbformat": 4,
  "vscode": {
   "interpreter": {
    "hash": "378962d97cf1bad49541e3e73627420923816b4ab822374f9a23404e347b3a45"
   }
  }
 },
 "nbformat": 4,
 "nbformat_minor": 2
}

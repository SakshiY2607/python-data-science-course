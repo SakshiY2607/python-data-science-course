{
 "cells": [
  {
   "cell_type": "code",
   "execution_count": 11,
   "metadata": {},
   "outputs": [],
   "source": [
    "import requests \n",
    "from bs4 import BeautifulSoup"
   ]
  },
  {
   "cell_type": "code",
   "execution_count": 12,
   "metadata": {},
   "outputs": [],
   "source": [
    "def get_soup(url):\n",
    "    page=requests.get(url)\n",
    "    return BeautifulSoup(page.text)"
   ]
  },
  {
   "cell_type": "code",
   "execution_count": 13,
   "metadata": {},
   "outputs": [],
   "source": [
    "soup=get_soup('https://www.python.org/jobs/')"
   ]
  },
  {
   "cell_type": "code",
   "execution_count": 14,
   "metadata": {},
   "outputs": [],
   "source": [
    "target=soup.find('ol',attrs={'class':'list-recent-jobs list-row-container menu'})"
   ]
  },
  {
   "cell_type": "code",
   "execution_count": 15,
   "metadata": {},
   "outputs": [
    {
     "name": "stdout",
     "output_type": "stream",
     "text": [
      "25\n"
     ]
    }
   ],
   "source": [
    "list=target.find_all('li')\n",
    "print(len(list))"
   ]
  },
  {
   "cell_type": "code",
   "execution_count": 27,
   "metadata": {},
   "outputs": [],
   "source": [
    "data=[]\n",
    "for l in list:\n",
    "    heading=l.find('h2',attrs={'class':'listing-company'})\n",
    "   # name=list.find('span',attrs={'class':'listing-company-name'},\n",
    "    #location=list.find('span',attrs={'class':'listing-location'},\n",
    "    type=l.find('span',attrs={'class':'listing-job-type'})\n",
    "    time=l.find('span',attrs={'class':'listing-posted'})\n",
    "    category=l.find('span',attrs={'class':'listing-company-category'})\n",
    "\n",
    "    if heading and type and time and category :\n",
    "        data.append({\n",
    "            'heading':heading.text.strip(),\n",
    "            #'name':name.text.strip(),\n",
    "             #'location':location.text.strip(),\n",
    "            'type':type.text.strip(),\n",
    "            'time':time.text.strip(),\n",
    "            'category':category.text.strip()\n",
    "            })"
   ]
  },
  {
   "cell_type": "code",
   "execution_count": null,
   "metadata": {},
   "outputs": [],
   "source": []
  }
 ],
 "metadata": {
  "kernelspec": {
   "display_name": "Python 3.9.12 ('base')",
   "language": "python",
   "name": "python3"
  },
  "language_info": {
   "codemirror_mode": {
    "name": "ipython",
    "version": 3
   },
   "file_extension": ".py",
   "mimetype": "text/x-python",
   "name": "python",
   "nbconvert_exporter": "python",
   "pygments_lexer": "ipython3",
   "version": "3.9.12"
  },
  "orig_nbformat": 4,
  "vscode": {
   "interpreter": {
    "hash": "378962d97cf1bad49541e3e73627420923816b4ab822374f9a23404e347b3a45"
   }
  }
 },
 "nbformat": 4,
 "nbformat_minor": 2
}

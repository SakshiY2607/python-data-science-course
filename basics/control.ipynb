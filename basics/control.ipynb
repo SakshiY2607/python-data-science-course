{
 "cells": [
  {
   "cell_type": "code",
   "execution_count": 10,
   "metadata": {},
   "outputs": [
    {
     "name": "stdout",
     "output_type": "stream",
     "text": [
      "the end\n"
     ]
    }
   ],
   "source": [
    "x=1357\n",
    "if x%2==0 :\n",
    "  print(\"even\")\n",
    "print(\"the end\")  "
   ]
  },
  {
   "cell_type": "code",
   "execution_count": 22,
   "metadata": {},
   "outputs": [
    {
     "name": "stdout",
     "output_type": "stream",
     "text": [
      "well done\n"
     ]
    }
   ],
   "source": [
    " num =input(\"enter a number\") # not specified default type is always string\n",
    " if num.isnumeric(): #:denotes starting of block; isnumeric() checks whether input is a numeric or not its not valid for float literals\n",
    "    print(\"well done\")\n",
    "    num=int(num)\n",
    "   \n",
    "else :\n",
    "    print(\"bad input\")    \n"
   ]
  },
  {
   "cell_type": "code",
   "execution_count": 32,
   "metadata": {},
   "outputs": [
    {
     "name": "stdout",
     "output_type": "stream",
     "text": [
      "wrong email\n"
     ]
    }
   ],
   "source": [
    "username = input(\"enter username\")\n",
    "email =input(\"enter email id\")\n",
    "password =input(\"enter password\")\n",
    "if username=='john cena':\n",
    "    if email=='john@gmail.com':\n",
    "        if password =='qwerty':\n",
    "            print(\"welcome to wwe\")\n",
    "        else: \n",
    "             print(\"wrong password\")\n",
    "    else:\n",
    "        print('wrong email')\n",
    "else:\n",
    "    print('wrong username')          \n",
    "\n",
    "     "
   ]
  },
  {
   "cell_type": "code",
   "execution_count": 34,
   "metadata": {},
   "outputs": [
    {
     "name": "stdout",
     "output_type": "stream",
     "text": [
      "wrong username\n"
     ]
    }
   ],
   "source": [
    "username = input(\"enter username\")\n",
    "email =input(\"enter email id\")\n",
    "password =input(\"enter password\")\n",
    "if username!='john cena':\n",
    "    print('wrong username')\n",
    "elif email!='john@gmail.com':\n",
    "    print('wrong email')\n",
    "elif password!='qwerty':\n",
    "    print(\"wrong password\")\n",
    "else:\n",
    "    print('welcome to wwe🎇')        \n"
   ]
  },
  {
   "cell_type": "markdown",
   "metadata": {},
   "source": [
    "- TypeError: '>=' not supported between instances of 'str' and 'int'"
   ]
  },
  {
   "cell_type": "code",
   "execution_count": 56,
   "metadata": {},
   "outputs": [
    {
     "name": "stdout",
     "output_type": "stream",
     "text": [
      "grade is F\n"
     ]
    }
   ],
   "source": [
    "\n",
    "marks = input(\"enter marks\")\n",
    "if marks.isnumeric()==False:\n",
    "    print(\"invalid\") \n",
    "else:\n",
    "    marks=int(marks)\n",
    "    if marks>=90:\n",
    "       print(\"gradeis A\")\n",
    "    elif marks>=80:\n",
    "       print(\"grade is B\")\n",
    "    elif marks>=70:\n",
    "       print(\"grade is C\")    \n",
    "    elif marks>=60:\n",
    "       print(\"grade is D\")\n",
    "    elif marks<60:\n",
    "       print(\"grade is F\")\n",
    "   "
   ]
  },
  {
   "cell_type": "code",
   "execution_count": 3,
   "metadata": {},
   "outputs": [
    {
     "data": {
      "text/plain": [
       "10"
      ]
     },
     "execution_count": 3,
     "metadata": {},
     "output_type": "execute_result"
    }
   ],
   "source": [
    "word ='volkswagen' #indexing starts from index 0\n",
    "len(word)"
   ]
  },
  {
   "cell_type": "code",
   "execution_count": 4,
   "metadata": {},
   "outputs": [
    {
     "name": "stdout",
     "output_type": "stream",
     "text": [
      "P\n",
      "Y\n",
      "T\n",
      "H\n",
      "O\n",
      "N\n"
     ]
    }
   ],
   "source": [
    "x='PYTHON'\n",
    "for i in x:\n",
    "    print(i)"
   ]
  },
  {
   "cell_type": "markdown",
   "metadata": {},
   "source": [
    "## *string settings*\n",
    "- r = raw string  (its takes the whole string as it is eg: r(link))\n",
    "- f=formatted string(it )\n",
    "- b=byte string"
   ]
  },
  {
   "cell_type": "code",
   "execution_count": 9,
   "metadata": {},
   "outputs": [
    {
     "data": {
      "text/plain": [
       "'C:\\\\Users\\\\Sakshi\\\\Documents\\\\python'"
      ]
     },
     "execution_count": 9,
     "metadata": {},
     "output_type": "execute_result"
    }
   ],
   "source": [
    "r\"C:\\Users\\Sakshi\\Documents\\python\""
   ]
  },
  {
   "cell_type": "code",
   "execution_count": 8,
   "metadata": {},
   "outputs": [
    {
     "name": "stdout",
     "output_type": "stream",
     "text": [
      "i have apple\n",
      "i have banana \n",
      "i have mango\n"
     ]
    }
   ],
   "source": [
    "fruits =['apple', 'banana ', 'mango']\n",
    "for item in fruits:\n",
    "    print(f'i have {item}')  #f- formatted string "
   ]
  },
  {
   "cell_type": "code",
   "execution_count": 12,
   "metadata": {},
   "outputs": [
    {
     "name": "stdout",
     "output_type": "stream",
     "text": [
      "i have apple\n",
      "i have banana \n",
      "i have mango\n"
     ]
    }
   ],
   "source": [
    "#without using f \n",
    "for item in fruits:\n",
    "   print('i have',item)"
   ]
  },
  {
   "cell_type": "code",
   "execution_count": 13,
   "metadata": {},
   "outputs": [
    {
     "name": "stdout",
     "output_type": "stream",
     "text": [
      "you got point 0\n",
      "you got point 1\n",
      "you got point 2\n",
      "you got point 3\n",
      "you got point 4\n",
      "you got point 5\n"
     ]
    }
   ],
   "source": [
    "for i in range(6):\n",
    "    print('you got point',i)"
   ]
  },
  {
   "cell_type": "code",
   "execution_count": 16,
   "metadata": {},
   "outputs": [
    {
     "name": "stdout",
     "output_type": "stream",
     "text": [
      "level 1\n",
      "level 4\n",
      "level 7\n"
     ]
    }
   ],
   "source": [
    "for num in range(1,10,3):  #range(start value,stop value,step value)....stop value is mandatory while other 2 r optional\n",
    "    print('level', num)"
   ]
  },
  {
   "cell_type": "code",
   "execution_count": 15,
   "metadata": {},
   "outputs": [
    {
     "name": "stdout",
     "output_type": "stream",
     "text": [
      "sheep 2\n",
      "sheep 3\n",
      "sheep 4\n",
      "sheep 5\n",
      "sheep 6\n",
      "sheep 7\n",
      "sheep 8\n",
      "sheep 9\n",
      "sheep 10\n"
     ]
    }
   ],
   "source": [
    "for num in range(2,11):\n",
    "    print('sheep',num)"
   ]
  },
  {
   "cell_type": "code",
   "execution_count": 17,
   "metadata": {},
   "outputs": [
    {
     "name": "stdout",
     "output_type": "stream",
     "text": [
      "10\n",
      "9\n",
      "8\n",
      "7\n",
      "6\n"
     ]
    }
   ],
   "source": [
    "#reverse loop\n",
    "for num in range(10,5,-1):\n",
    "    print(num)"
   ]
  },
  {
   "cell_type": "code",
   "execution_count": 19,
   "metadata": {},
   "outputs": [
    {
     "name": "stdout",
     "output_type": "stream",
     "text": [
      "\n",
      "Na\n",
      "NaNa\n",
      "NaNaNa\n",
      "NaNaNaNa\n",
      "NaNaNaNaNa\n",
      "NaNaNaNaNaNa\n",
      "NaNaNaNaNaNaNa\n",
      "NaNaNaNaNaNaNaNa\n",
      "NaNaNaNaNaNaNaNaNa\n"
     ]
    }
   ],
   "source": [
    "#reverse pattern loop\n",
    "for i in range(10):\n",
    "    print(i* 'Na')"
   ]
  },
  {
   "cell_type": "markdown",
   "metadata": {},
   "source": [
    "extra functional setting for 'for loop'\n",
    "- enumerate (count and give its respective value)\n",
    "- zip(combines the number of list respectivley)\n"
   ]
  },
  {
   "cell_type": "code",
   "execution_count": 29,
   "metadata": {},
   "outputs": [
    {
     "name": "stdout",
     "output_type": "stream",
     "text": [
      "apple\n",
      "banana \n",
      "mango\n",
      "kiwi\n"
     ]
    }
   ],
   "source": [
    "fruitss =['apple', 'banana ', 'mango', 'kiwi']\n",
    "for fruit in fruits:\n",
    "    print(fruit)"
   ]
  },
  {
   "cell_type": "code",
   "execution_count": 30,
   "metadata": {},
   "outputs": [
    {
     "name": "stdout",
     "output_type": "stream",
     "text": [
      "(0, 'apple')\n",
      "(1, 'banana ')\n",
      "(2, 'mango')\n",
      "(3, 'kiwi')\n"
     ]
    }
   ],
   "source": [
    "for fruit in enumerate(fruitss):\n",
    "    print(fruit)"
   ]
  },
  {
   "cell_type": "code",
   "execution_count": 31,
   "metadata": {},
   "outputs": [
    {
     "name": "stdout",
     "output_type": "stream",
     "text": [
      "0 apple\n",
      "1 banana \n",
      "2 mango\n",
      "3 kiwi\n"
     ]
    }
   ],
   "source": [
    "for i, fruit in enumerate(fruitss):\n",
    "    print(i,fruit)"
   ]
  },
  {
   "cell_type": "code",
   "execution_count": 32,
   "metadata": {},
   "outputs": [],
   "source": [
    "prices =[100,40,200,50,240,60]\n"
   ]
  },
  {
   "cell_type": "code",
   "execution_count": 38,
   "metadata": {},
   "outputs": [
    {
     "name": "stdout",
     "output_type": "stream",
     "text": [
      "apple => 100\n",
      "banana  => 40\n",
      "mango => 200\n",
      "kiwi => 50\n"
     ]
    }
   ],
   "source": [
    "for f,p in zip(fruitss ,prices):\n",
    "    print(f,'=>',p)"
   ]
  },
  {
   "cell_type": "code",
   "execution_count": 39,
   "metadata": {},
   "outputs": [],
   "source": [
    "qty=['2kg','2 dozens','1kg','1kg','1/2kg','5kg']"
   ]
  },
  {
   "cell_type": "code",
   "execution_count": 40,
   "metadata": {},
   "outputs": [
    {
     "name": "stdout",
     "output_type": "stream",
     "text": [
      "apple => 2kg for 100\n",
      "banana  => 2 dozens for 40\n",
      "mango => 1kg for 200\n",
      "kiwi => 1kg for 50\n"
     ]
    }
   ],
   "source": [
    "for f,p,q in zip(fruitss,prices,qty):\n",
    "    print(f,'=>',q,'for',p)"
   ]
  },
  {
   "cell_type": "code",
   "execution_count": null,
   "metadata": {},
   "outputs": [],
   "source": []
  }
 ],
 "metadata": {
  "kernelspec": {
   "display_name": "Python 3.9.12 ('base')",
   "language": "python",
   "name": "python3"
  },
  "language_info": {
   "codemirror_mode": {
    "name": "ipython",
    "version": 3
   },
   "file_extension": ".py",
   "mimetype": "text/x-python",
   "name": "python",
   "nbconvert_exporter": "python",
   "pygments_lexer": "ipython3",
   "version": "3.9.12"
  },
  "orig_nbformat": 4,
  "vscode": {
   "interpreter": {
    "hash": "378962d97cf1bad49541e3e73627420923816b4ab822374f9a23404e347b3a45"
   }
  }
 },
 "nbformat": 4,
 "nbformat_minor": 2
}

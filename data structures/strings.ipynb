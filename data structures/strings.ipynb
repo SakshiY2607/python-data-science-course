{
 "cells": [
  {
   "cell_type": "markdown",
   "metadata": {},
   "source": [
    "- *string are a sequence of unicode characters*"
   ]
  },
  {
   "cell_type": "code",
   "execution_count": 4,
   "metadata": {},
   "outputs": [
    {
     "name": "stdout",
     "output_type": "stream",
     "text": [
      "applejuice\n"
     ]
    }
   ],
   "source": [
    "#CONCATENATION\n",
    "a='apple'\n",
    "b='juice'\n",
    "ab=a+b\n",
    "print(ab)"
   ]
  },
  {
   "cell_type": "code",
   "execution_count": 5,
   "metadata": {},
   "outputs": [
    {
     "name": "stdout",
     "output_type": "stream",
     "text": [
      "thisisAmazing\n"
     ]
    }
   ],
   "source": [
    "w1='this'\n",
    "w2 ='is'\n",
    "w3='Amazing'\n",
    "msg=w1+w2+w3\n",
    "print(msg)"
   ]
  },
  {
   "cell_type": "code",
   "execution_count": 6,
   "metadata": {},
   "outputs": [
    {
     "name": "stdout",
     "output_type": "stream",
     "text": [
      "this is Amazing\n"
     ]
    }
   ],
   "source": [
    "#to add spaces n/w words in string\n",
    "msg=w1+' '+w2+' '+w3 #we are supposed to manually add the apostrophe for spaces\n",
    "print(msg)"
   ]
  },
  {
   "cell_type": "code",
   "execution_count": 7,
   "metadata": {},
   "outputs": [
    {
     "name": "stdout",
     "output_type": "stream",
     "text": [
      "Hi Hi Hi \n"
     ]
    }
   ],
   "source": [
    "#DUPLICATION\n",
    "word='Hi '\n",
    "print(word*3) #to print the string n number of times"
   ]
  },
  {
   "cell_type": "code",
   "execution_count": 8,
   "metadata": {},
   "outputs": [
    {
     "name": "stdout",
     "output_type": "stream",
     "text": [
      "*************************\n"
     ]
    }
   ],
   "source": [
    "print('*' *25)"
   ]
  },
  {
   "cell_type": "code",
   "execution_count": 9,
   "metadata": {},
   "outputs": [
    {
     "name": "stdout",
     "output_type": "stream",
     "text": [
      " * \n",
      " *  * \n",
      " *  *  * \n",
      " *  *  *  * \n",
      " *  *  *  *  * \n"
     ]
    }
   ],
   "source": [
    "for i in range(1,6):\n",
    "    print(i*' * ')"
   ]
  },
  {
   "cell_type": "code",
   "execution_count": 10,
   "metadata": {},
   "outputs": [
    {
     "name": "stdout",
     "output_type": "stream",
     "text": [
      " *  *  *  *  *  * \n",
      " *  *  *  *  * \n",
      " *  *  *  * \n",
      " *  *  * \n",
      " *  * \n",
      " * \n",
      " *  * \n",
      " *  *  * \n",
      " *  *  *  * \n",
      " *  *  *  *  * \n"
     ]
    }
   ],
   "source": [
    "for i in range(6,1,-1):\n",
    "    print(i* ' * ')\n",
    "for i in range(1,6):\n",
    "    print(i*' * ')    "
   ]
  },
  {
   "cell_type": "code",
   "execution_count": 11,
   "metadata": {},
   "outputs": [],
   "source": [
    "name='Alex Hason'\n",
    "age=50\n",
    "items=['Apple','Banana','Cherry']\n"
   ]
  },
  {
   "cell_type": "markdown",
   "metadata": {},
   "source": [
    "#### Formatting functions"
   ]
  },
  {
   "cell_type": "code",
   "execution_count": 12,
   "metadata": {},
   "outputs": [],
   "source": [
    "msg='This is a message from VERY imporTANT person'\n"
   ]
  },
  {
   "cell_type": "code",
   "execution_count": 13,
   "metadata": {},
   "outputs": [
    {
     "name": "stdout",
     "output_type": "stream",
     "text": [
      "THIS IS A MESSAGE FROM VERY IMPORTANT PERSON\n",
      "this is a message from very important person\n",
      "This Is A Message From Very Important Person\n",
      "This is a message from very important person\n",
      "this is a message from very important person\n",
      "tHIS IS A MESSAGE FROM very IMPORtant PERSON\n",
      "This is a message from VERY imporTANT person\n",
      "this is a message from very important person\n"
     ]
    }
   ],
   "source": [
    "print(msg.upper())\n",
    "print(msg.lower())\n",
    "print(msg.title())\n",
    "print(msg.capitalize())\n",
    "print(msg.casefold()) #casefold() and  lower() as same but casefold()is more aggressive as it converts more characters into lowercase than lower()\n",
    "print(msg.swapcase())\n",
    "print(msg)\n",
    "msg=msg.lower()  #to convert msg permanently to lower case(in ram)\n",
    "print(msg)"
   ]
  },
  {
   "cell_type": "code",
   "execution_count": 17,
   "metadata": {},
   "outputs": [
    {
     "name": "stdout",
     "output_type": "stream",
     "text": [
      "this is a message from very important person\n"
     ]
    }
   ],
   "source": [
    "len(msg) #length of msg\n",
    "print(msg)"
   ]
  },
  {
   "cell_type": "code",
   "execution_count": 29,
   "metadata": {},
   "outputs": [
    {
     "name": "stdout",
     "output_type": "stream",
     "text": [
      "this is a message from very important person                                                        \n"
     ]
    }
   ],
   "source": [
    "print(msg.ljust(100)) #ljust to place our content on the left side by first increasing the length of the content by 100 and then shifting the content on left side"
   ]
  },
  {
   "cell_type": "code",
   "execution_count": 28,
   "metadata": {},
   "outputs": [
    {
     "name": "stdout",
     "output_type": "stream",
     "text": [
      "                                                        this is a message from very important person\n"
     ]
    }
   ],
   "source": [
    "print(msg.rjust(100)) #right alignment"
   ]
  },
  {
   "cell_type": "code",
   "execution_count": 25,
   "metadata": {},
   "outputs": [
    {
     "name": "stdout",
     "output_type": "stream",
     "text": [
      "                            this is a message from very important person                            \n"
     ]
    }
   ],
   "source": [
    "print(msg.center(100)) # center alignment"
   ]
  },
  {
   "cell_type": "code",
   "execution_count": 30,
   "metadata": {},
   "outputs": [],
   "source": [
    "long_msg='''\n",
    "Visual Studio Code is a lightweight\n",
    "but power source code editor which\n",
    "runs on your desktop and is available\n",
    "for Window ,macOS and Linux.\n",
    "It comes with built-in support for JavaScript,\n",
    "TypeScript and Node.js and has a rich ecosystem \n",
    "of extension for other languages and runtimes'''"
   ]
  },
  {
   "cell_type": "code",
   "execution_count": 32,
   "metadata": {},
   "outputs": [
    {
     "name": "stdout",
     "output_type": "stream",
     "text": [
      "\n",
      "Visual Studio Code is a lightweight\n",
      "but power source code editor which\n",
      "runs on your desktop and is available\n",
      "for Window ,macOS and Linux.\n",
      "It comes with built-in support for JavaScript,\n",
      "TypeScript and Node.js and has a rich ecosystem \n",
      "of extension for other languages and runtimes\n"
     ]
    }
   ],
   "source": [
    "print(long_msg.rjust(100)) #rjust or ljust both will not work for long message bcoz the msg is on different lines and ljust and rjust work only on one line"
   ]
  },
  {
   "cell_type": "code",
   "execution_count": 42,
   "metadata": {},
   "outputs": [
    {
     "name": "stdout",
     "output_type": "stream",
     "text": [
      "                                                                                                                                  \n",
      "                                               Visual Studio Code is a lightweight                                                \n",
      "                                                but power source code editor which                                                \n",
      "                                              runs on your desktop and is available                                               \n",
      "                                                   for Window ,macOS and Linux.                                                   \n",
      "                                          It comes with built-in support for JavaScript,                                          \n",
      "                                         TypeScript and Node.js and has a rich ecosystem                                          \n",
      "                                          of extension for other languages and runtimes                                           \n"
     ]
    }
   ],
   "source": [
    "for line in long_msg.split('\\n'):#split when line chnage is encountered in the long msg\n",
    "    print(line.center(130)) #now we can use rjust and ljust as well\n"
   ]
  },
  {
   "cell_type": "code",
   "execution_count": 40,
   "metadata": {},
   "outputs": [
    {
     "data": {
      "text/plain": [
       "'\\nVisual Studio Code is a lightweight\\nbut power source code editor which\\nruns on your desktop and is available\\nfor Window ,macOS and Linux.\\nIt comes with built-in support for JavaScript,\\nTypeScript and Node.js and has a rich ecosystem \\nof extension for other languages and runtimes'"
      ]
     },
     "execution_count": 40,
     "metadata": {},
     "output_type": "execute_result"
    }
   ],
   "source": [
    "long_msg"
   ]
  },
  {
   "cell_type": "code",
   "execution_count": 44,
   "metadata": {},
   "outputs": [
    {
     "data": {
      "text/plain": [
       "['',\n",
       " 'Visual Studio Code is a lightweight',\n",
       " 'but power source code editor which',\n",
       " 'runs on your desktop and is available',\n",
       " 'for Window ,macOS and Linux.',\n",
       " 'It comes with built-in support for JavaScript,',\n",
       " 'TypeScript and Node.js and has a rich ecosystem ',\n",
       " 'of extension for other languages and runtimes']"
      ]
     },
     "execution_count": 44,
     "metadata": {},
     "output_type": "execute_result"
    }
   ],
   "source": [
    "long_msg.split('\\n') #to separate line when line change is encountered"
   ]
  },
  {
   "cell_type": "code",
   "execution_count": 45,
   "metadata": {},
   "outputs": [
    {
     "data": {
      "text/plain": [
       "['this', 'is', 'a', 'message', 'from', 'very', 'important', 'person']"
      ]
     },
     "execution_count": 45,
     "metadata": {},
     "output_type": "execute_result"
    }
   ],
   "source": [
    "msg.split()"
   ]
  },
  {
   "cell_type": "code",
   "execution_count": 48,
   "metadata": {},
   "outputs": [
    {
     "data": {
      "text/plain": [
       "['this', 'is', 'a', 'message', 'from very important person']"
      ]
     },
     "execution_count": 48,
     "metadata": {},
     "output_type": "execute_result"
    }
   ],
   "source": [
    "msg.split(maxsplit=4)"
   ]
  },
  {
   "cell_type": "code",
   "execution_count": 50,
   "metadata": {},
   "outputs": [
    {
     "data": {
      "text/plain": [
       "['this is a message', 'from', 'very', 'important', 'person']"
      ]
     },
     "execution_count": 50,
     "metadata": {},
     "output_type": "execute_result"
    }
   ],
   "source": [
    "msg.rsplit(maxsplit=4) #returns split in revere order or from right side "
   ]
  },
  {
   "cell_type": "code",
   "execution_count": 56,
   "metadata": {},
   "outputs": [
    {
     "name": "stdout",
     "output_type": "stream",
     "text": [
      "11    sakshi  \n",
      "6 sakshi\n"
     ]
    }
   ],
   "source": [
    "name=input('enter your name')\n",
    "print(len(name),name)\n",
    "name=name.strip()  #strip removes any space  aamd \\n only from starting and ending not from between\n",
    "print(len(name),name)"
   ]
  },
  {
   "cell_type": "code",
   "execution_count": 58,
   "metadata": {},
   "outputs": [
    {
     "data": {
      "text/plain": [
       "'LA'"
      ]
     },
     "execution_count": 58,
     "metadata": {},
     "output_type": "execute_result"
    }
   ],
   "source": [
    "data ='000000000000LA0000'\n",
    "data.strip('0') #REMOVE 0 from starting and ending "
   ]
  },
  {
   "cell_type": "code",
   "execution_count": 61,
   "metadata": {},
   "outputs": [
    {
     "data": {
      "text/plain": [
       "'this is ------not -------good'"
      ]
     },
     "execution_count": 61,
     "metadata": {},
     "output_type": "execute_result"
    }
   ],
   "source": [
    "data='----------this is ------not -------good------'\n",
    "data.strip('-') #only removes leading and ending characters does not alter in the middle"
   ]
  },
  {
   "cell_type": "code",
   "execution_count": 62,
   "metadata": {},
   "outputs": [
    {
     "name": "stdout",
     "output_type": "stream",
     "text": [
      "this is ------not -------good\n",
      "this is ------not -------good------\n",
      "----------this is ------not -------good\n"
     ]
    }
   ],
   "source": [
    "print(data.strip('-'))\n",
    "print(data.lstrip('-')) #right split\n",
    "print(data.rstrip('-')) #left split"
   ]
  },
  {
   "cell_type": "code",
   "execution_count": 64,
   "metadata": {},
   "outputs": [
    {
     "name": "stdout",
     "output_type": "stream",
     "text": [
      "\n",
      "Visual Studio Code is a lightweight\n",
      "but power source code editor which\n",
      "runs on your desktop and is available\n",
      "for Window ,macOS and Linux.\n",
      "It comes with built-in support for JavaScript,\n",
      "TypeScript and Node.js and has a rich ecosystem \n",
      "of extension for other languages and runtimes\n",
      "updated----------------------->\n",
      "\n",
      "Vosual Studoo Code os a loghtweoght\n",
      "but power source code edotor whoch\n",
      "runs on your desktop and os avaolable\n",
      "for Wondow ,macOS and Lonux.\n",
      "It comes woth buolt-on support for JavaScropt,\n",
      "TypeScropt and Node.js and has a roch ecosystem \n",
      "of extensoon for other languages and runtomes\n"
     ]
    }
   ],
   "source": [
    "print(long_msg)\n",
    "print('updated----------------------->')\n",
    "print(long_msg.replace('i','o')) #to replace i in the given string with o "
   ]
  },
  {
   "cell_type": "code",
   "execution_count": 65,
   "metadata": {},
   "outputs": [
    {
     "name": "stdout",
     "output_type": "stream",
     "text": [
      "this is not good\n"
     ]
    }
   ],
   "source": [
    "data_clean=data.replace('-','')\n",
    "print(data_clean)"
   ]
  },
  {
   "cell_type": "code",
   "execution_count": null,
   "metadata": {},
   "outputs": [],
   "source": []
  }
 ],
 "metadata": {
  "kernelspec": {
   "display_name": "Python 3.9.12 ('base')",
   "language": "python",
   "name": "python3"
  },
  "language_info": {
   "codemirror_mode": {
    "name": "ipython",
    "version": 3
   },
   "file_extension": ".py",
   "mimetype": "text/x-python",
   "name": "python",
   "nbconvert_exporter": "python",
   "pygments_lexer": "ipython3",
   "version": "3.9.12"
  },
  "orig_nbformat": 4,
  "vscode": {
   "interpreter": {
    "hash": "378962d97cf1bad49541e3e73627420923816b4ab822374f9a23404e347b3a45"
   }
  }
 },
 "nbformat": 4,
 "nbformat_minor": 2
}

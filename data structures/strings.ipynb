{
 "cells": [
  {
   "cell_type": "markdown",
   "metadata": {},
   "source": [
    "- *string are a sequence of unicode characters*"
   ]
  },
  {
   "cell_type": "code",
   "execution_count": 39,
   "metadata": {},
   "outputs": [
    {
     "name": "stdout",
     "output_type": "stream",
     "text": [
      "applejuice\n"
     ]
    }
   ],
   "source": [
    "#CONCATENATION\n",
    "a='apple'\n",
    "b='juice'\n",
    "ab=a+b\n",
    "print(ab)"
   ]
  },
  {
   "cell_type": "code",
   "execution_count": 40,
   "metadata": {},
   "outputs": [
    {
     "name": "stdout",
     "output_type": "stream",
     "text": [
      "thisisAmazing\n"
     ]
    }
   ],
   "source": [
    "w1='this'\n",
    "w2 ='is'\n",
    "w3='Amazing'\n",
    "msg=w1+w2+w3\n",
    "print(msg)"
   ]
  },
  {
   "cell_type": "code",
   "execution_count": 41,
   "metadata": {},
   "outputs": [
    {
     "name": "stdout",
     "output_type": "stream",
     "text": [
      "this is Amazing\n"
     ]
    }
   ],
   "source": [
    "#to add spaces n/w words in string\n",
    "msg=w1+' '+w2+' '+w3 #we are supposed to manually add the apostrophe for spaces\n",
    "print(msg)"
   ]
  },
  {
   "cell_type": "code",
   "execution_count": 42,
   "metadata": {},
   "outputs": [
    {
     "name": "stdout",
     "output_type": "stream",
     "text": [
      "Hi Hi Hi \n"
     ]
    }
   ],
   "source": [
    "#DUPLICATION\n",
    "word='Hi '\n",
    "print(word*3) #to print the string n number of times"
   ]
  },
  {
   "cell_type": "code",
   "execution_count": 43,
   "metadata": {},
   "outputs": [
    {
     "name": "stdout",
     "output_type": "stream",
     "text": [
      "*************************\n"
     ]
    }
   ],
   "source": [
    "print('*' *25)"
   ]
  },
  {
   "cell_type": "code",
   "execution_count": 44,
   "metadata": {},
   "outputs": [
    {
     "name": "stdout",
     "output_type": "stream",
     "text": [
      " * \n",
      " *  * \n",
      " *  *  * \n",
      " *  *  *  * \n",
      " *  *  *  *  * \n"
     ]
    }
   ],
   "source": [
    "for i in range(1,6):\n",
    "    print(i*' * ')"
   ]
  },
  {
   "cell_type": "code",
   "execution_count": 45,
   "metadata": {},
   "outputs": [
    {
     "name": "stdout",
     "output_type": "stream",
     "text": [
      " *  *  *  *  *  * \n",
      " *  *  *  *  * \n",
      " *  *  *  * \n",
      " *  *  * \n",
      " *  * \n",
      " * \n",
      " *  * \n",
      " *  *  * \n",
      " *  *  *  * \n",
      " *  *  *  *  * \n"
     ]
    }
   ],
   "source": [
    "for i in range(6,1,-1):\n",
    "    print(i* ' * ')\n",
    "for i in range(1,6):\n",
    "    print(i*' * ')    "
   ]
  },
  {
   "cell_type": "code",
   "execution_count": 46,
   "metadata": {},
   "outputs": [],
   "source": [
    "name='Alex Hason'\n",
    "age=50\n",
    "items=['Apple','Banana','Cherry']\n"
   ]
  },
  {
   "cell_type": "markdown",
   "metadata": {},
   "source": [
    "#### Formatting functions"
   ]
  },
  {
   "cell_type": "code",
   "execution_count": 47,
   "metadata": {},
   "outputs": [],
   "source": [
    "msg='This is a message from VERY imporTANT person'\n"
   ]
  },
  {
   "cell_type": "code",
   "execution_count": 48,
   "metadata": {},
   "outputs": [
    {
     "name": "stdout",
     "output_type": "stream",
     "text": [
      "THIS IS A MESSAGE FROM VERY IMPORTANT PERSON\n",
      "this is a message from very important person\n",
      "This Is A Message From Very Important Person\n",
      "This is a message from very important person\n",
      "this is a message from very important person\n",
      "tHIS IS A MESSAGE FROM very IMPORtant PERSON\n",
      "This is a message from VERY imporTANT person\n",
      "this is a message from very important person\n"
     ]
    }
   ],
   "source": [
    "print(msg.upper())\n",
    "print(msg.lower())\n",
    "print(msg.title())\n",
    "print(msg.capitalize())\n",
    "print(msg.casefold()) #casefold() and  lower() as same but casefold()is more aggressive as it converts more characters into lowercase than lower()\n",
    "print(msg.swapcase())\n",
    "print(msg)\n",
    "msg=msg.lower()  #to convert msg permanently to lower case(in ram)\n",
    "print(msg)"
   ]
  },
  {
   "cell_type": "code",
   "execution_count": 49,
   "metadata": {},
   "outputs": [
    {
     "name": "stdout",
     "output_type": "stream",
     "text": [
      "this is a message from very important person\n"
     ]
    }
   ],
   "source": [
    "len(msg) #length of msg\n",
    "print(msg)"
   ]
  },
  {
   "cell_type": "code",
   "execution_count": 50,
   "metadata": {},
   "outputs": [
    {
     "name": "stdout",
     "output_type": "stream",
     "text": [
      "this is a message from very important person                                                        \n"
     ]
    }
   ],
   "source": [
    "print(msg.ljust(100)) #ljust to place our content on the left side by first increasing the length of the content by 100 and then shifting the content on left side"
   ]
  },
  {
   "cell_type": "code",
   "execution_count": 51,
   "metadata": {},
   "outputs": [
    {
     "name": "stdout",
     "output_type": "stream",
     "text": [
      "                                                        this is a message from very important person\n"
     ]
    }
   ],
   "source": [
    "print(msg.rjust(100)) #right alignment"
   ]
  },
  {
   "cell_type": "code",
   "execution_count": 52,
   "metadata": {},
   "outputs": [
    {
     "name": "stdout",
     "output_type": "stream",
     "text": [
      "                            this is a message from very important person                            \n"
     ]
    }
   ],
   "source": [
    "print(msg.center(100)) # center alignment"
   ]
  },
  {
   "cell_type": "code",
   "execution_count": 53,
   "metadata": {},
   "outputs": [],
   "source": [
    "long_msg='''\n",
    "Visual Studio Code is a lightweight\n",
    "but powerful source code editor which\n",
    "runs on your desktop and is available\n",
    "for Window ,macOS and Linux.\n",
    "It comes with built-in support for JavaScript,\n",
    "TypeScript and Node.js and has a rich ecosystem \n",
    "of extension for other languages and runtimes\n",
    "'''"
   ]
  },
  {
   "cell_type": "code",
   "execution_count": 54,
   "metadata": {},
   "outputs": [
    {
     "name": "stdout",
     "output_type": "stream",
     "text": [
      "\n",
      "Visual Studio Code is a lightweight\n",
      "but powerful source code editor which\n",
      "runs on your desktop and is available\n",
      "for Window ,macOS and Linux.\n",
      "It comes with built-in support for JavaScript,\n",
      "TypeScript and Node.js and has a rich ecosystem \n",
      "of extension for other languages and runtimes\n",
      "\n"
     ]
    }
   ],
   "source": [
    "print(long_msg.rjust(100)) #rjust or ljust both will not work for long message bcoz the msg is on different lines and ljust and rjust work only on one line"
   ]
  },
  {
   "cell_type": "code",
   "execution_count": 55,
   "metadata": {},
   "outputs": [
    {
     "name": "stdout",
     "output_type": "stream",
     "text": [
      "                                                                                                                                  \n",
      "                                               Visual Studio Code is a lightweight                                                \n",
      "                                              but powerful source code editor which                                               \n",
      "                                              runs on your desktop and is available                                               \n",
      "                                                   for Window ,macOS and Linux.                                                   \n",
      "                                          It comes with built-in support for JavaScript,                                          \n",
      "                                         TypeScript and Node.js and has a rich ecosystem                                          \n",
      "                                          of extension for other languages and runtimes                                           \n",
      "                                                                                                                                  \n"
     ]
    }
   ],
   "source": [
    "for line in long_msg.split('\\n'):#split when line chnage is encountered in the long msg\n",
    "    print(line.center(130)) #now we can use rjust and ljust as well\n"
   ]
  },
  {
   "cell_type": "code",
   "execution_count": 56,
   "metadata": {},
   "outputs": [
    {
     "data": {
      "text/plain": [
       "'\\nVisual Studio Code is a lightweight\\nbut powerful source code editor which\\nruns on your desktop and is available\\nfor Window ,macOS and Linux.\\nIt comes with built-in support for JavaScript,\\nTypeScript and Node.js and has a rich ecosystem \\nof extension for other languages and runtimes\\n'"
      ]
     },
     "execution_count": 56,
     "metadata": {},
     "output_type": "execute_result"
    }
   ],
   "source": [
    "long_msg"
   ]
  },
  {
   "cell_type": "code",
   "execution_count": 57,
   "metadata": {},
   "outputs": [
    {
     "data": {
      "text/plain": [
       "['',\n",
       " 'Visual Studio Code is a lightweight',\n",
       " 'but powerful source code editor which',\n",
       " 'runs on your desktop and is available',\n",
       " 'for Window ,macOS and Linux.',\n",
       " 'It comes with built-in support for JavaScript,',\n",
       " 'TypeScript and Node.js and has a rich ecosystem ',\n",
       " 'of extension for other languages and runtimes',\n",
       " '']"
      ]
     },
     "execution_count": 57,
     "metadata": {},
     "output_type": "execute_result"
    }
   ],
   "source": [
    "long_msg.split('\\n') #to separate line when line change is encountered"
   ]
  },
  {
   "cell_type": "code",
   "execution_count": 58,
   "metadata": {},
   "outputs": [
    {
     "data": {
      "text/plain": [
       "['this', 'is', 'a', 'message', 'from', 'very', 'important', 'person']"
      ]
     },
     "execution_count": 58,
     "metadata": {},
     "output_type": "execute_result"
    }
   ],
   "source": [
    "msg.split()"
   ]
  },
  {
   "cell_type": "code",
   "execution_count": 22,
   "metadata": {},
   "outputs": [
    {
     "data": {
      "text/plain": [
       "['this', 'is', 'a', 'message', 'from very important person']"
      ]
     },
     "execution_count": 22,
     "metadata": {},
     "output_type": "execute_result"
    }
   ],
   "source": [
    "msg.split(maxsplit=4)"
   ]
  },
  {
   "cell_type": "code",
   "execution_count": 23,
   "metadata": {},
   "outputs": [
    {
     "data": {
      "text/plain": [
       "['this is a message', 'from', 'very', 'important', 'person']"
      ]
     },
     "execution_count": 23,
     "metadata": {},
     "output_type": "execute_result"
    }
   ],
   "source": [
    "msg.rsplit(maxsplit=4) #returns split in revere order or from right side "
   ]
  },
  {
   "cell_type": "code",
   "execution_count": 24,
   "metadata": {},
   "outputs": [
    {
     "name": "stdout",
     "output_type": "stream",
     "text": [
      "0 \n",
      "0 \n"
     ]
    }
   ],
   "source": [
    "name=input('enter your name')\n",
    "print(len(name),name)\n",
    "name=name.strip()  #strip removes any space  aamd \\n only from starting and ending not from between\n",
    "print(len(name),name)"
   ]
  },
  {
   "cell_type": "code",
   "execution_count": 25,
   "metadata": {},
   "outputs": [
    {
     "data": {
      "text/plain": [
       "'LA'"
      ]
     },
     "execution_count": 25,
     "metadata": {},
     "output_type": "execute_result"
    }
   ],
   "source": [
    "data ='000000000000LA0000'\n",
    "data.strip('0') #REMOVE 0 from starting and ending "
   ]
  },
  {
   "cell_type": "code",
   "execution_count": 26,
   "metadata": {},
   "outputs": [
    {
     "data": {
      "text/plain": [
       "'this is ------not -------good'"
      ]
     },
     "execution_count": 26,
     "metadata": {},
     "output_type": "execute_result"
    }
   ],
   "source": [
    "data='----------this is ------not -------good------'\n",
    "data.strip('-') #only removes leading and ending characters does not alter in the middle"
   ]
  },
  {
   "cell_type": "code",
   "execution_count": 27,
   "metadata": {},
   "outputs": [
    {
     "name": "stdout",
     "output_type": "stream",
     "text": [
      "this is ------not -------good\n",
      "this is ------not -------good------\n",
      "----------this is ------not -------good\n"
     ]
    }
   ],
   "source": [
    "print(data.strip('-'))\n",
    "print(data.lstrip('-')) #right split\n",
    "print(data.rstrip('-')) #left split"
   ]
  },
  {
   "cell_type": "code",
   "execution_count": 28,
   "metadata": {},
   "outputs": [
    {
     "name": "stdout",
     "output_type": "stream",
     "text": [
      "\n",
      "Visual Studio Code is a lightweight\n",
      "but powerful source code editor which\n",
      "runs on your desktop and is available\n",
      "for Window ,macOS and Linux.\n",
      "It comes with built-in support for JavaScript,\n",
      "TypeScript and Node.js and has a rich ecosystem \n",
      "of extension for other languages and runtimes\n",
      "\n",
      "updated----------------------->\n",
      "\n",
      "Vosual Studoo Code os a loghtweoght\n",
      "but powerful source code edotor whoch\n",
      "runs on your desktop and os avaolable\n",
      "for Wondow ,macOS and Lonux.\n",
      "It comes woth buolt-on support for JavaScropt,\n",
      "TypeScropt and Node.js and has a roch ecosystem \n",
      "of extensoon for other languages and runtomes\n",
      "\n"
     ]
    }
   ],
   "source": [
    "print(long_msg)\n",
    "print('updated----------------------->')\n",
    "print(long_msg.replace('i','o')) #to replace i in the given string with o "
   ]
  },
  {
   "cell_type": "code",
   "execution_count": 29,
   "metadata": {},
   "outputs": [
    {
     "name": "stdout",
     "output_type": "stream",
     "text": [
      "this is not good\n"
     ]
    }
   ],
   "source": [
    "data_clean=data.replace('-','')\n",
    "print(data_clean)"
   ]
  },
  {
   "cell_type": "code",
   "execution_count": 30,
   "metadata": {},
   "outputs": [
    {
     "name": "stdout",
     "output_type": "stream",
     "text": [
      "1\n"
     ]
    }
   ],
   "source": [
    "print(long_msg.count('Visual'))"
   ]
  },
  {
   "cell_type": "code",
   "execution_count": 31,
   "metadata": {},
   "outputs": [
    {
     "data": {
      "text/plain": [
       "-1"
      ]
     },
     "execution_count": 31,
     "metadata": {},
     "output_type": "execute_result"
    }
   ],
   "source": [
    "long_msg.find('this')   #output is -1 bcoz the given word is not found in the long_msg"
   ]
  },
  {
   "cell_type": "code",
   "execution_count": 32,
   "metadata": {},
   "outputs": [
    {
     "data": {
      "text/plain": [
       "1"
      ]
     },
     "execution_count": 32,
     "metadata": {},
     "output_type": "execute_result"
    }
   ],
   "source": [
    "long_msg.find('Visual') #find  function gives the index of the first index of the given parameter after first checking whether the given parameter exists in the msg in which it is to be found"
   ]
  },
  {
   "cell_type": "code",
   "execution_count": 33,
   "metadata": {},
   "outputs": [
    {
     "name": "stdout",
     "output_type": "stream",
     "text": [
      "100\n"
     ]
    }
   ],
   "source": [
    "print(long_msg.rfind('is'))   #to find the index of from the back/reverse side"
   ]
  },
  {
   "cell_type": "code",
   "execution_count": 34,
   "metadata": {},
   "outputs": [],
   "source": [
    "#search all the occurence of substr and display\n"
   ]
  },
  {
   "cell_type": "code",
   "execution_count": 35,
   "metadata": {},
   "outputs": [
    {
     "name": "stdout",
     "output_type": "stream",
     "text": [
      "2\n",
      "20\n",
      "100\n"
     ]
    }
   ],
   "source": [
    "q='is'\n",
    "start=0\n",
    "while True:\n",
    "    pos=long_msg.find(q,start) #find function can have start and end value\n",
    "    start=pos+1\n",
    "    if pos==-1:\n",
    "        break\n",
    "    print(pos)\n"
   ]
  },
  {
   "cell_type": "markdown",
   "metadata": {},
   "source": [
    "Question:\n",
    "Wap to find all the indexes of all the vowels\n"
   ]
  },
  {
   "cell_type": "code",
   "execution_count": 36,
   "metadata": {},
   "outputs": [
    {
     "name": "stdout",
     "output_type": "stream",
     "text": [
      "vowel a:5\n",
      "vowel a:23\n",
      "vowel a:96\n",
      "vowel a:103\n",
      "vowel a:105\n",
      "vowel a:108\n",
      "vowel a:126\n",
      "vowel a:131\n",
      "vowel a:178\n",
      "vowel a:180\n",
      "vowel a:200\n",
      "vowel a:212\n",
      "vowel a:217\n",
      "vowel a:220\n",
      "vowel a:262\n",
      "vowel a:266\n",
      "vowel a:271\n",
      "vowel e:18\n",
      "vowel e:31\n",
      "vowel e:44\n",
      "vowel e:55\n",
      "vowel e:60\n",
      "vowel e:62\n",
      "vowel e:89\n",
      "vowel e:111\n",
      "vowel e:148\n",
      "vowel e:192\n",
      "vowel e:207\n",
      "vowel e:227\n",
      "vowel e:234\n",
      "vowel e:241\n",
      "vowel e:244\n",
      "vowel e:258\n",
      "vowel e:268\n",
      "vowel e:281\n",
      "vowel i:2\n",
      "vowel i:12\n",
      "vowel i:20\n",
      "vowel i:26\n",
      "vowel i:32\n",
      "vowel i:64\n",
      "vowel i:71\n",
      "vowel i:100\n",
      "vowel i:106\n",
      "vowel i:118\n",
      "vowel i:136\n",
      "vowel i:152\n",
      "vowel i:158\n",
      "vowel i:162\n",
      "vowel i:184\n",
      "vowel i:196\n",
      "vowel i:223\n",
      "vowel i:247\n",
      "vowel i:279\n",
      "vowel o:13\n",
      "vowel o:16\n",
      "vowel o:42\n",
      "vowel o:51\n",
      "vowel o:58\n",
      "vowel o:66\n",
      "vowel o:80\n",
      "vowel o:84\n",
      "vowel o:93\n",
      "vowel o:114\n",
      "vowel o:121\n",
      "vowel o:146\n",
      "vowel o:169\n",
      "vowel o:174\n",
      "vowel o:205\n",
      "vowel o:229\n",
      "vowel o:238\n",
      "vowel o:248\n",
      "vowel o:252\n",
      "vowel o:255\n",
      "vowel u:4\n",
      "vowel u:10\n",
      "vowel u:38\n",
      "vowel u:47\n",
      "vowel u:52\n",
      "vowel u:76\n",
      "vowel u:85\n",
      "vowel u:138\n",
      "vowel u:157\n",
      "vowel u:166\n",
      "vowel u:265\n",
      "vowel u:276\n"
     ]
    }
   ],
   "source": [
    "\n",
    "l=len(long_msg)\n",
    "for vowel in 'aeiou':\n",
    "    start=0\n",
    "    while True:\n",
    "        pos=long_msg.find(vowel,start) #find function can have start and end value\n",
    "        start=pos+1\n",
    "        if pos==-1:\n",
    "            break\n",
    "        print(f\"vowel {vowel}:{pos}\")\n",
    "        \n"
   ]
  },
  {
   "cell_type": "code",
   "execution_count": 37,
   "metadata": {},
   "outputs": [
    {
     "name": "stdout",
     "output_type": "stream",
     "text": [
      "hello\n",
      "numeric: False\n",
      "alphabets: True\n",
      "alphanumeric: True\n",
      "only spaces: False\n",
      "only uppercase: False\n",
      "only lowercase: True\n",
      "capitalized: False\n",
      "Decimal numbers: False\n"
     ]
    }
   ],
   "source": [
    "msg=input('enter anything')\n",
    "print(msg)\n",
    "print(\"numeric:\", msg.isnumeric())\n",
    "print(\"alphabets:\", msg.isalpha())\n",
    "print(\"alphanumeric:\", msg.isalnum())\n",
    "print(\"only spaces:\", msg.isspace())\n",
    "print(\"only uppercase:\", msg.isupper())\n",
    "print(\"only lowercase:\", msg.islower())\n",
    "print(\"capitalized:\", msg.istitle())\n",
    "print('Decimal numbers:', msg.isdecimal())"
   ]
  },
  {
   "cell_type": "markdown",
   "metadata": {},
   "source": []
  },
  {
   "cell_type": "code",
   "execution_count": 38,
   "metadata": {},
   "outputs": [
    {
     "name": "stdout",
     "output_type": "stream",
     "text": [
      "number of vowels :  86\n"
     ]
    }
   ],
   "source": [
    "#count the number of vowels in a string\n",
    "c=0\n",
    "for vowel in 'aeiou':\n",
    "    start=0\n",
    "    while True:\n",
    "        pos=long_msg.find(vowel,start) #find function can have start and end value\n",
    "        start=pos+1\n",
    "        if pos==-1:\n",
    "            break\n",
    "        else:\n",
    "            c=c+1\n",
    "print(\"number of vowels : \" ,c)\n"
   ]
  },
  {
   "cell_type": "code",
   "execution_count": 66,
   "metadata": {},
   "outputs": [
    {
     "name": "stdout",
     "output_type": "stream",
     "text": [
      "a : 17\n",
      "e : 18\n",
      "i : 19\n",
      "o : 20\n",
      "u : 12\n",
      "86\n"
     ]
    }
   ],
   "source": [
    "# 2nd Way to count th number of vowels in string\n",
    "\n",
    "vowels='aeiou' \n",
    "d=0\n",
    "for v in vowels:\n",
    "    c=long_msg.count(v)\n",
    "    d=d+c\n",
    "    print(f'{v} : {c}')\n",
    "print(d)\n"
   ]
  },
  {
   "cell_type": "code",
   "execution_count": 71,
   "metadata": {},
   "outputs": [
    {
     "name": "stdout",
     "output_type": "stream",
     "text": [
      "\n",
      "Vsl Std Cd s  lghtwght\n",
      "bt pwrfl src cd dtr whch\n",
      "rns n yr dsktp nd s vlbl\n",
      "fr Wndw ,mcOS nd Lnx.\n",
      "It cms wth blt-n spprt fr JvScrpt,\n",
      "TypScrpt nd Nd.js nd hs  rch csystm \n",
      "f xtnsn fr thr lnggs nd rntms\n",
      "\n"
     ]
    }
   ],
   "source": [
    "#remove all vowels\n",
    "msg=long_msg\n",
    "vowels='aeiou' \n",
    "for v in vowels:\n",
    "    msg=msg.replace(v,'')\n",
    "print(msg)"
   ]
  },
  {
   "cell_type": "code",
   "execution_count": 75,
   "metadata": {},
   "outputs": [
    {
     "name": "stdout",
     "output_type": "stream",
     "text": [
      "['Visual', 'Studio', 'Code', 'is', 'a', 'lightweight', 'but', 'powerful', 'source', 'code', 'editor', 'which', 'runs', 'on', 'your']\n"
     ]
    }
   ],
   "source": [
    "#wap to get first n words from a string ,where n is a number given by user\n",
    "word_count=int(input('enter number of word required'))\n",
    "words=long_msg.split()[:word_count]\n",
    "print(words)"
   ]
  },
  {
   "cell_type": "code",
   "execution_count": 95,
   "metadata": {},
   "outputs": [
    {
     "name": "stdout",
     "output_type": "stream",
     "text": [
      "Visual 6\n",
      "Studio 6\n",
      "Code 4\n",
      "is 2\n",
      "a 1\n",
      "lightweight 11\n",
      "but 3\n",
      "powerful 8\n",
      "source 6\n",
      "code 4\n",
      "editor 6\n",
      "which 5\n",
      "runs 4\n",
      "on 2\n",
      "your 4\n",
      "desktop 7\n",
      "and 3\n",
      "is 2\n",
      "available 9\n",
      "for 3\n",
      "Window 6\n",
      ",macOS 6\n",
      "and 3\n",
      "Linux. 6\n",
      "It 2\n",
      "comes 5\n",
      "with 4\n",
      "built-in 8\n",
      "support 7\n",
      "for 3\n",
      "JavaScript, 11\n",
      "TypeScript 10\n",
      "and 3\n",
      "Node.js 7\n",
      "and 3\n",
      "has 3\n",
      "a 1\n",
      "rich 4\n",
      "ecosystem 9\n",
      "of 2\n",
      "extension 9\n",
      "for 3\n",
      "other 5\n",
      "languages 9\n",
      "and 3\n",
      "runtimes 8\n",
      "biggest word is lightweight with 11 characters\n"
     ]
    }
   ],
   "source": [
    "m=0\n",
    "w=0\n",
    "for word in long_msg.split():\n",
    "    print(word,len(word))\n",
    "    if len(word)>m:\n",
    "        m=len(word)\n",
    "        w=word\n",
    "print(f'biggest word is {w} with {m} characters')        \n"
   ]
  },
  {
   "cell_type": "code",
   "execution_count": null,
   "metadata": {},
   "outputs": [],
   "source": []
  }
 ],
 "metadata": {
  "kernelspec": {
   "display_name": "Python 3.9.12 ('base')",
   "language": "python",
   "name": "python3"
  },
  "language_info": {
   "codemirror_mode": {
    "name": "ipython",
    "version": 3
   },
   "file_extension": ".py",
   "mimetype": "text/x-python",
   "name": "python",
   "nbconvert_exporter": "python",
   "pygments_lexer": "ipython3",
   "version": "3.9.12"
  },
  "orig_nbformat": 4,
  "vscode": {
   "interpreter": {
    "hash": "378962d97cf1bad49541e3e73627420923816b4ab822374f9a23404e347b3a45"
   }
  }
 },
 "nbformat": 4,
 "nbformat_minor": 2
}

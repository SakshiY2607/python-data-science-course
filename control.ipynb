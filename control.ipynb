{
 "cells": [
  {
   "cell_type": "code",
   "execution_count": 10,
   "metadata": {},
   "outputs": [
    {
     "name": "stdout",
     "output_type": "stream",
     "text": [
      "the end\n"
     ]
    }
   ],
   "source": [
    "x=1357\n",
    "if x%2==0 :\n",
    "  print(\"even\")\n",
    "print(\"the end\")  "
   ]
  },
  {
   "cell_type": "code",
   "execution_count": 22,
   "metadata": {},
   "outputs": [
    {
     "name": "stdout",
     "output_type": "stream",
     "text": [
      "well done\n"
     ]
    }
   ],
   "source": [
    " num =input(\"enter a number\") # not specified default type is always string\n",
    " if num.isnumeric(): #:denotes starting of block; isnumeric() checks whether input is a numeric or not its not valid for float literals\n",
    "    print(\"well done\")\n",
    "    num=int(num)\n",
    "   \n",
    "else :\n",
    "    print(\"bad input\")    \n"
   ]
  },
  {
   "cell_type": "code",
   "execution_count": 32,
   "metadata": {},
   "outputs": [
    {
     "name": "stdout",
     "output_type": "stream",
     "text": [
      "wrong email\n"
     ]
    }
   ],
   "source": [
    "username = input(\"enter username\")\n",
    "email =input(\"enter email id\")\n",
    "password =input(\"enter password\")\n",
    "if username=='john cena':\n",
    "    if email=='john@gmail.com':\n",
    "        if password =='qwerty':\n",
    "            print(\"welcome to wwe\")\n",
    "        else: \n",
    "             print(\"wrong password\")\n",
    "    else:\n",
    "        print('wrong email')\n",
    "else:\n",
    "    print('wrong username')          \n",
    "\n",
    "     "
   ]
  },
  {
   "cell_type": "code",
   "execution_count": 34,
   "metadata": {},
   "outputs": [
    {
     "name": "stdout",
     "output_type": "stream",
     "text": [
      "wrong username\n"
     ]
    }
   ],
   "source": [
    "username = input(\"enter username\")\n",
    "email =input(\"enter email id\")\n",
    "password =input(\"enter password\")\n",
    "if username!='john cena':\n",
    "    print('wrong username')\n",
    "elif email!='john@gmail.com':\n",
    "    print('wrong email')\n",
    "elif password!='qwerty':\n",
    "    print(\"wrong password\")\n",
    "else:\n",
    "    print('welcome to wwe🎇')        \n"
   ]
  },
  {
   "cell_type": "markdown",
   "metadata": {},
   "source": [
    "- TypeError: '>=' not supported between instances of 'str' and 'int'"
   ]
  },
  {
   "cell_type": "code",
   "execution_count": 56,
   "metadata": {},
   "outputs": [
    {
     "name": "stdout",
     "output_type": "stream",
     "text": [
      "grade is F\n"
     ]
    }
   ],
   "source": [
    "\n",
    "marks = input(\"enter marks\")\n",
    "if marks.isnumeric()==False:\n",
    "    print(\"invalid\") \n",
    "else:\n",
    "    marks=int(marks)\n",
    "    if marks>=90:\n",
    "       print(\"gradeis A\")\n",
    "    elif marks>=80:\n",
    "       print(\"grade is B\")\n",
    "    elif marks>=70:\n",
    "       print(\"grade is C\")    \n",
    "    elif marks>=60:\n",
    "       print(\"grade is D\")\n",
    "    elif marks<60:\n",
    "       print(\"grade is F\")\n",
    "   "
   ]
  },
  {
   "cell_type": "code",
   "execution_count": null,
   "metadata": {},
   "outputs": [],
   "source": []
  },
  {
   "cell_type": "code",
   "execution_count": null,
   "metadata": {},
   "outputs": [],
   "source": []
  }
 ],
 "metadata": {
  "kernelspec": {
   "display_name": "Python 3.9.12 ('base')",
   "language": "python",
   "name": "python3"
  },
  "language_info": {
   "codemirror_mode": {
    "name": "ipython",
    "version": 3
   },
   "file_extension": ".py",
   "mimetype": "text/x-python",
   "name": "python",
   "nbconvert_exporter": "python",
   "pygments_lexer": "ipython3",
   "version": "3.9.12"
  },
  "orig_nbformat": 4,
  "vscode": {
   "interpreter": {
    "hash": "378962d97cf1bad49541e3e73627420923816b4ab822374f9a23404e347b3a45"
   }
  }
 },
 "nbformat": 4,
 "nbformat_minor": 2
}

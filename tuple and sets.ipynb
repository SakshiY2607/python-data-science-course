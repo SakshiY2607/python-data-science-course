{
 "cells": [
  {
   "cell_type": "code",
   "execution_count": 15,
   "metadata": {},
   "outputs": [
    {
     "name": "stdout",
     "output_type": "stream",
     "text": [
      "(1, 2, 3, 4)\n",
      "<class 'tuple'>\n"
     ]
    }
   ],
   "source": [
    "a=(1,2,3,4)\n",
    "print(a)\n",
    "print(type(a))"
   ]
  },
  {
   "cell_type": "code",
   "execution_count": 4,
   "metadata": {},
   "outputs": [
    {
     "name": "stdout",
     "output_type": "stream",
     "text": [
      "(1, 3, 5, 7)\n",
      "<class 'tuple'>\n"
     ]
    }
   ],
   "source": [
    "b=1,3,5,7\n",
    "print(b)\n",
    "print(type(b))  #tuple is used by python internally bcozpython finds it convinient "
   ]
  },
  {
   "cell_type": "code",
   "execution_count": 5,
   "metadata": {},
   "outputs": [
    {
     "name": "stdout",
     "output_type": "stream",
     "text": [
      "1\n",
      "2\n",
      "3\n",
      "4\n"
     ]
    }
   ],
   "source": [
    "for  val in a:\n",
    "    print (val)"
   ]
  },
  {
   "cell_type": "code",
   "execution_count": 19,
   "metadata": {},
   "outputs": [
    {
     "name": "stdout",
     "output_type": "stream",
     "text": [
      "(1, 2, 3)\n"
     ]
    }
   ],
   "source": [
    "#slicing in python\n",
    "print(a[0:3])"
   ]
  },
  {
   "cell_type": "code",
   "execution_count": 12,
   "metadata": {},
   "outputs": [
    {
     "name": "stdout",
     "output_type": "stream",
     "text": [
      "(1, 2, 3, 4, 5, 6)\n"
     ]
    }
   ],
   "source": [
    "print((1,2,3)+(4,5,6))"
   ]
  },
  {
   "cell_type": "code",
   "execution_count": 14,
   "metadata": {},
   "outputs": [
    {
     "name": "stdout",
     "output_type": "stream",
     "text": [
      "('REPEAT', 'REPEAT', 'REPEAT')\n"
     ]
    }
   ],
   "source": [
    "print((\"REPEAT\",)*3)"
   ]
  },
  {
   "cell_type": "markdown",
   "metadata": {},
   "source": [
    "tuple has only two function :\n",
    "  - count    \n",
    "  - index "
   ]
  },
  {
   "cell_type": "code",
   "execution_count": 21,
   "metadata": {},
   "outputs": [
    {
     "name": "stdout",
     "output_type": "stream",
     "text": [
      "2\n",
      "3\n"
     ]
    }
   ],
   "source": [
    "my_tuple=('a','p','p','l','e',)\n",
    "print(my_tuple.count('p'))\n",
    "print(my_tuple.index('l'))"
   ]
  },
  {
   "cell_type": "code",
   "execution_count": 25,
   "metadata": {},
   "outputs": [
    {
     "name": "stdout",
     "output_type": "stream",
     "text": [
      "[1, 2, 3, 4]\n",
      "(1, 2, 3, 4)\n"
     ]
    }
   ],
   "source": [
    "al=list(a) #convert tuple to list(tuple are interconvertible)\n",
    "print(al)\n",
    "print(a)"
   ]
  },
  {
   "cell_type": "code",
   "execution_count": 26,
   "metadata": {},
   "outputs": [
    {
     "name": "stdout",
     "output_type": "stream",
     "text": [
      "[2, 3, 12, 312, 31, 31, 32, 123]\n",
      "(2, 3, 12, 312, 31, 31, 32, 123)\n"
     ]
    }
   ],
   "source": [
    "val=[2,3,12,312,31,31,32,123]\n",
    "print(val)\n",
    "valt=tuple(val)\n",
    "print(valt)"
   ]
  },
  {
   "cell_type": "markdown",
   "metadata": {},
   "source": [
    "## Sets\n",
    "- unordered\n",
    "- every value inside a set is duplicate(by default python removes duplicate value())\n",
    "- represented  by {}\n",
    "- set is immutable but some changes can be performed - discard,remove,update,clear,"
   ]
  },
  {
   "cell_type": "code",
   "execution_count": 28,
   "metadata": {},
   "outputs": [
    {
     "name": "stdout",
     "output_type": "stream",
     "text": [
      "{1, 2, 3}\n"
     ]
    }
   ],
   "source": [
    "my_set={1,2,3}\n",
    "print(my_set)"
   ]
  },
  {
   "cell_type": "code",
   "execution_count": 32,
   "metadata": {},
   "outputs": [
    {
     "name": "stdout",
     "output_type": "stream",
     "text": [
      "{1, 2, 3}\n"
     ]
    }
   ],
   "source": [
    "my_set={1,2,3,2}\n",
    "print(my_set) #removes duplicate elements by default"
   ]
  },
  {
   "cell_type": "code",
   "execution_count": 34,
   "metadata": {},
   "outputs": [
    {
     "name": "stdout",
     "output_type": "stream",
     "text": [
      "{1, 2, 3}\n"
     ]
    }
   ],
   "source": [
    "my_set=set([1,2,3,2]) #convert list into set\n",
    "print(my_set) "
   ]
  },
  {
   "cell_type": "markdown",
   "metadata": {},
   "source": [
    "*set cannot have mutable items*\n",
    "my_set={1,2,[3,4]}"
   ]
  },
  {
   "cell_type": "code",
   "execution_count": 36,
   "metadata": {},
   "outputs": [
    {
     "name": "stdout",
     "output_type": "stream",
     "text": [
      "<class 'set'>\n"
     ]
    }
   ],
   "source": [
    "a=set()\n",
    "print(type(a))"
   ]
  },
  {
   "cell_type": "code",
   "execution_count": 52,
   "metadata": {},
   "outputs": [
    {
     "name": "stdout",
     "output_type": "stream",
     "text": [
      "{1, 3}\n",
      "{1, 2, 3}\n",
      "{1, 2, 3, 4}\n",
      "{1, 2, 3, 4, 5, 6, 8}\n"
     ]
    }
   ],
   "source": [
    "my_set ={1,3}\n",
    "print(my_set)\n",
    "\n",
    "my_set.add(2)\n",
    "print(my_set)\n",
    "\n",
    "my_set.update([2,3,4]) # to update the set \n",
    "print(my_set)\n",
    "\n",
    "my_set.update([4,5],{1,6,8}) #removes duplicate elements and by default sorts\n",
    "print(my_set)"
   ]
  },
  {
   "cell_type": "code",
   "execution_count": 53,
   "metadata": {},
   "outputs": [
    {
     "name": "stdout",
     "output_type": "stream",
     "text": [
      "{1, 2, 3, 5, 6, 8}\n",
      "{1, 2, 3, 5, 8}\n",
      "{2, 3, 5, 8}\n",
      "set()\n"
     ]
    }
   ],
   "source": [
    "#discard and remove function to delete element - discard shpuld be given more usage priority it shows no error\n",
    "my_set.discard(4) #discard an element\n",
    "print(my_set)\n",
    "\n",
    "my_set.remove(6) # remove an element\n",
    "print(my_set)\n",
    "\n",
    "my_set.pop() #pops a random item \n",
    "print(my_set)\n",
    "\n",
    "my_set.clear() #clears set\n",
    "print(my_set)"
   ]
  },
  {
   "cell_type": "markdown",
   "metadata": {},
   "source": [
    "- for performing unionoperation on sets- A|B or A.union(B)\n",
    "- intersection - A&B or A.intersection(B)\n",
    "- difference - A-B or A.difference(B)\n",
    "- for symmetric differnce -A^B or A.symmetric_difference(B)\n"
   ]
  },
  {
   "cell_type": "code",
   "execution_count": 55,
   "metadata": {},
   "outputs": [
    {
     "name": "stdout",
     "output_type": "stream",
     "text": [
      "{1, 2, 3, 4, 5, 6, 7, 8}\n",
      "{1, 2, 3, 4, 5, 6, 7, 8}\n",
      "{1, 2, 3, 4, 5, 6, 7, 8}\n"
     ]
    }
   ],
   "source": [
    "A={1,2,3,4,5,6}\n",
    "B={4,5,6,7,8}\n",
    "print(A|B)  #union of sets\n",
    "print(A.union(B))\n",
    "print(B.union(A))"
   ]
  },
  {
   "cell_type": "code",
   "execution_count": 57,
   "metadata": {},
   "outputs": [
    {
     "name": "stdout",
     "output_type": "stream",
     "text": [
      "{4, 5, 6}\n"
     ]
    },
    {
     "data": {
      "text/plain": [
       "{4, 5, 6}"
      ]
     },
     "execution_count": 57,
     "metadata": {},
     "output_type": "execute_result"
    }
   ],
   "source": [
    "print(A&B) #intersection function\n",
    "A.intersection(B)"
   ]
  },
  {
   "cell_type": "code",
   "execution_count": 58,
   "metadata": {},
   "outputs": [
    {
     "name": "stdout",
     "output_type": "stream",
     "text": [
      "{1, 2, 3}\n",
      "{8, 7}\n"
     ]
    },
    {
     "data": {
      "text/plain": [
       "{1, 2, 3}"
      ]
     },
     "execution_count": 58,
     "metadata": {},
     "output_type": "execute_result"
    }
   ],
   "source": [
    "print(A-B)\n",
    "print(B-A)\n",
    "A.difference(B)"
   ]
  },
  {
   "cell_type": "code",
   "execution_count": 60,
   "metadata": {},
   "outputs": [
    {
     "name": "stdout",
     "output_type": "stream",
     "text": [
      "{1, 2, 3, 7, 8}\n",
      "{1, 2, 3, 7, 8}\n"
     ]
    }
   ],
   "source": [
    "print(A^B)\n",
    "print(A.symmetric_difference(B)) #non common values from both sets"
   ]
  },
  {
   "cell_type": "code",
   "execution_count": 70,
   "metadata": {},
   "outputs": [
    {
     "name": "stdout",
     "output_type": "stream",
     "text": [
      "union: {'refrigerator', 'tv', 'led', 'lamp', 'juicer', 'flashlight', 'fan', 'tubelight', 'bulb', 'ac'}\n",
      "intersection: {'refrigerator', 'flashlight'}\n",
      "difference b/w x n y: {'fan', 'juicer', 'tv', 'ac'}\n",
      "difference b/w y n x: {'lamp', 'tubelight', 'bulb', 'led'}\n",
      "symmertric difference: {'tv', 'led', 'lamp', 'fan', 'bulb', 'ac', 'juicer', 'tubelight'}\n",
      "symmertric difference: {'tv', 'led', 'lamp', 'fan', 'bulb', 'ac', 'juicer', 'tubelight'}\n"
     ]
    }
   ],
   "source": [
    "x={'fan','ac','juicer','tv','refrigerator','flashlight'}\n",
    "y={'led','tubelight','bulb','lamp','flashlight','refrigerator'}\n",
    "print('union:',x|y)\n",
    "print('intersection:',x&y)\n",
    "print('difference b/w x n y:',x-y)\n",
    "print('difference b/w y n x:',y-x)\n",
    "print('symmertric difference:',x^y)\n",
    "print('symmertric difference:',x.symmetric_difference(y))"
   ]
  },
  {
   "cell_type": "code",
   "execution_count": 87,
   "metadata": {},
   "outputs": [],
   "source": [
    "s1={1,2,3,4,5,6,7,8,9,10}"
   ]
  },
  {
   "cell_type": "code",
   "execution_count": 88,
   "metadata": {},
   "outputs": [
    {
     "name": "stdout",
     "output_type": "stream",
     "text": [
      "{1, 2, 3, 4, 5, 6, 7, 8, 9, 10}\n",
      "[1, 2, 3, 4, 5, 6, 7, 8, 9, 10]\n",
      "(1, 2, 3, 4, 5, 6, 7, 8, 9, 10)\n",
      "{1, 2, 3}\n",
      "{1, 2, 3, 4, 5}\n"
     ]
    }
   ],
   "source": [
    "print(s1)\n",
    "s1=list(s1) #set to list\n",
    "print(s1)\n",
    "st=tuple(s1) #set to tuple\n",
    "print(st)\n",
    "a=set([1,2,3,3,3,1,1]) #list to set\n",
    "print(a)\n",
    "b=set((2,1,2,2,3,4,4,5)) #tuple to set\n",
    "print(b)\n"
   ]
  },
  {
   "cell_type": "markdown",
   "metadata": {},
   "source": [
    "## *Dictionary* \n",
    "- key : value\n",
    "- for removing- pop() and popitem() is used\n",
    " 3 [*popitem() removews the last element in the dictionary*]\n"
   ]
  },
  {
   "cell_type": "code",
   "execution_count": 79,
   "metadata": {},
   "outputs": [
    {
     "name": "stdout",
     "output_type": "stream",
     "text": [
      "Jack\n"
     ]
    }
   ],
   "source": [
    "my_dict={'name':'Jack','age':26}\n",
    "print(my_dict['name']) #dictionary agr net se  aa rhi h to [] use krte h"
   ]
  },
  {
   "cell_type": "code",
   "execution_count": 80,
   "metadata": {},
   "outputs": [
    {
     "name": "stdout",
     "output_type": "stream",
     "text": [
      "26\n"
     ]
    }
   ],
   "source": [
    "\n",
    "print(my_dict.get('age')) #khud create kiya h to ()"
   ]
  },
  {
   "cell_type": "code",
   "execution_count": 81,
   "metadata": {},
   "outputs": [
    {
     "name": "stdout",
     "output_type": "stream",
     "text": [
      "{'name': 'Jack', 'age': 27}\n",
      "{'name': 'Jack', 'age': 27, 'address': 'Downtown'}\n"
     ]
    }
   ],
   "source": [
    "my_dict['age']=27\n",
    "print(my_dict)\n",
    "my_dict['address']='Downtown'\n",
    "print(my_dict)\n"
   ]
  },
  {
   "cell_type": "code",
   "execution_count": 82,
   "metadata": {},
   "outputs": [
    {
     "name": "stdout",
     "output_type": "stream",
     "text": [
      "16\n",
      "(5, 25)\n"
     ]
    }
   ],
   "source": [
    "#for removing- pop() and popitem()\n",
    "squares={1:1,2:4,3:9,4:16,5:25}\n",
    "print(squares.pop(4))\n",
    "print(squares.popitem())"
   ]
  },
  {
   "cell_type": "code",
   "execution_count": 96,
   "metadata": {},
   "outputs": [],
   "source": [
    "report={\n",
    "    'student 1':{\n",
    "        'name':'John',\n",
    "        'marks':{\n",
    "            'math':80,\n",
    "            'science':90,\n",
    "             'history':70,\n",
    "             'english':60,\n",
    "             'evs':90\n",
    "        }\n",
    "    },\n",
    "    'student 2':{\n",
    "            'name':'Mary',\n",
    "            'marks':{\n",
    "                'math':70,\n",
    "                'science':80,\n",
    "                'history':60,\n",
    "                'english':50,\n",
    "                'evs':80\n",
    "\n",
    "            }\n",
    "        }\n",
    "        \n",
    "    }\n"
   ]
  },
  {
   "cell_type": "code",
   "execution_count": 97,
   "metadata": {},
   "outputs": [
    {
     "name": "stdout",
     "output_type": "stream",
     "text": [
      "{'name': 'John', 'marks': {'math': 80, 'science': 90, 'history': 70, 'english': 60, 'evs': 90}}\n"
     ]
    }
   ],
   "source": [
    "print(report['student 1'])"
   ]
  },
  {
   "cell_type": "code",
   "execution_count": 100,
   "metadata": {},
   "outputs": [
    {
     "name": "stdout",
     "output_type": "stream",
     "text": [
      "John\n",
      "{'math': 80, 'science': 90, 'history': 70, 'english': 60, 'evs': 90}\n",
      "70\n"
     ]
    }
   ],
   "source": [
    "print(report['student 1']['name'])\n",
    "print(report['student 1']['marks'])\n",
    "print(report['student 1']['marks']['history'])"
   ]
  },
  {
   "cell_type": "code",
   "execution_count": 98,
   "metadata": {},
   "outputs": [
    {
     "name": "stdout",
     "output_type": "stream",
     "text": [
      "student 1\n",
      "student 2\n"
     ]
    }
   ],
   "source": [
    "#loop for dictionary \n",
    "for i in report:\n",
    "    print(i)"
   ]
  },
  {
   "cell_type": "code",
   "execution_count": 101,
   "metadata": {},
   "outputs": [
    {
     "name": "stdout",
     "output_type": "stream",
     "text": [
      "student 1 {'name': 'John', 'marks': {'math': 80, 'science': 90, 'history': 70, 'english': 60, 'evs': 90}}\n",
      "student 2 {'name': 'Mary', 'marks': {'math': 70, 'science': 80, 'history': 60, 'english': 50, 'evs': 80}}\n"
     ]
    }
   ],
   "source": [
    "for k,v in report.items():\n",
    "    print(k,v)"
   ]
  },
  {
   "cell_type": "code",
   "execution_count": 106,
   "metadata": {},
   "outputs": [
    {
     "name": "stdout",
     "output_type": "stream",
     "text": [
      "students: student 1\n",
      "John\n",
      "math 80\n",
      "science 90\n",
      "history 70\n",
      "english 60\n",
      "evs 90\n",
      "students: student 2\n",
      "Mary\n",
      "math 70\n",
      "science 80\n",
      "history 60\n",
      "english 50\n",
      "evs 80\n"
     ]
    }
   ],
   "source": [
    "for k,v in report.items():\n",
    "    print('students:',k)\n",
    "    if isinstance(v,dict): #isinstance  function here checks whether the object is dictionary or not\n",
    "        for k1,v1 in v.items():\n",
    "         if isinstance(v1,dict):\n",
    "            for sub,marks in v1.items():\n",
    "                print(sub,marks)\n",
    "         else :\n",
    "            print(v1)\n",
    "    else:\n",
    "        print(v)           \n"
   ]
  },
  {
   "cell_type": "code",
   "execution_count": null,
   "metadata": {},
   "outputs": [],
   "source": []
  }
 ],
 "metadata": {
  "kernelspec": {
   "display_name": "Python 3.9.12 ('base')",
   "language": "python",
   "name": "python3"
  },
  "language_info": {
   "codemirror_mode": {
    "name": "ipython",
    "version": 3
   },
   "file_extension": ".py",
   "mimetype": "text/x-python",
   "name": "python",
   "nbconvert_exporter": "python",
   "pygments_lexer": "ipython3",
   "version": "3.9.12"
  },
  "orig_nbformat": 4,
  "vscode": {
   "interpreter": {
    "hash": "378962d97cf1bad49541e3e73627420923816b4ab822374f9a23404e347b3a45"
   }
  }
 },
 "nbformat": 4,
 "nbformat_minor": 2
}

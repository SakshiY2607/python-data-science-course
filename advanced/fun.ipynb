{
 "cells": [
  {
   "cell_type": "code",
   "execution_count": 1,
   "metadata": {},
   "outputs": [
    {
     "name": "stdout",
     "output_type": "stream",
     "text": [
      "Hi,i m outside any function\n"
     ]
    }
   ],
   "source": [
    "def hello(): #Defining function\n",
    "    print('This is a function')\n",
    "    print('This is not a good function')\n",
    "    print('Forget that this function exists')\n",
    "    print('Bye!')\n",
    "\n",
    "print('Hi,i m outside any function')"
   ]
  },
  {
   "cell_type": "code",
   "execution_count": 3,
   "metadata": {},
   "outputs": [
    {
     "data": {
      "text/plain": [
       "<function __main__.hello()>"
      ]
     },
     "execution_count": 3,
     "metadata": {},
     "output_type": "execute_result"
    }
   ],
   "source": [
    "hello   #the file runing currently is the main file "
   ]
  },
  {
   "cell_type": "code",
   "execution_count": 5,
   "metadata": {},
   "outputs": [
    {
     "name": "stdout",
     "output_type": "stream",
     "text": [
      "This is a function\n",
      "This is not a good function\n",
      "Forget that this function exists\n",
      "Bye!\n"
     ]
    }
   ],
   "source": [
    "hello() #calling a function in main\n",
    "#if we make a function and don't use it then that is we maake a library"
   ]
  },
  {
   "cell_type": "code",
   "execution_count": 6,
   "metadata": {},
   "outputs": [
    {
     "name": "stdout",
     "output_type": "stream",
     "text": [
      "This is a function\n",
      "This is not a good function\n",
      "Forget that this function exists\n",
      "Bye!\n",
      "This is a function\n",
      "This is not a good function\n",
      "Forget that this function exists\n",
      "Bye!\n",
      "This is a function\n",
      "This is not a good function\n",
      "Forget that this function exists\n",
      "Bye!\n"
     ]
    }
   ],
   "source": [
    "hello()\n",
    "hello()\n",
    "hello()"
   ]
  },
  {
   "cell_type": "code",
   "execution_count": 7,
   "metadata": {},
   "outputs": [
    {
     "name": "stdout",
     "output_type": "stream",
     "text": [
      "This is a function\n",
      "This is not a good function\n",
      "Forget that this function exists\n",
      "Bye!\n",
      "None\n",
      "This is a function\n",
      "This is not a good function\n",
      "Forget that this function exists\n",
      "Bye!\n",
      "None\n",
      "This is a function\n",
      "This is not a good function\n",
      "Forget that this function exists\n",
      "Bye!\n",
      "None\n"
     ]
    }
   ],
   "source": [
    "for i in range(3):\n",
    "    print(hello())"
   ]
  },
  {
   "cell_type": "code",
   "execution_count": 12,
   "metadata": {},
   "outputs": [],
   "source": [
    "def area(): \n",
    "    pass #pass can be used in for loop,if-else and even in class"
   ]
  },
  {
   "cell_type": "code",
   "execution_count": 13,
   "metadata": {},
   "outputs": [],
   "source": [
    "def area(length,breadth): #remove all inputs and print for a good prg\n",
    "    ans=length*breadth\n",
    "    return ans\n",
    "   "
   ]
  },
  {
   "cell_type": "code",
   "execution_count": 14,
   "metadata": {},
   "outputs": [
    {
     "data": {
      "text/plain": [
       "25"
      ]
     },
     "execution_count": 14,
     "metadata": {},
     "output_type": "execute_result"
    }
   ],
   "source": [
    "area(5,5)"
   ]
  },
  {
   "cell_type": "code",
   "execution_count": 15,
   "metadata": {},
   "outputs": [
    {
     "name": "stdout",
     "output_type": "stream",
     "text": [
      "the area is  12\n"
     ]
    }
   ],
   "source": [
    "print('the area is ',area(4,3))"
   ]
  },
  {
   "cell_type": "code",
   "execution_count": 17,
   "metadata": {},
   "outputs": [
    {
     "name": "stdout",
     "output_type": "stream",
     "text": [
      "16 20\n"
     ]
    }
   ],
   "source": [
    "a=area(4,4)\n",
    "b=area(4,5)\n",
    "print(a,b)"
   ]
  },
  {
   "cell_type": "code",
   "execution_count": 18,
   "metadata": {},
   "outputs": [
    {
     "name": "stdout",
     "output_type": "stream",
     "text": [
      "160\n"
     ]
    }
   ],
   "source": [
    "big_area=area(5,5)+area(10,12)+15 #funcions can be used in expressions or equation\n",
    "print(big_area)"
   ]
  },
  {
   "cell_type": "code",
   "execution_count": 34,
   "metadata": {},
   "outputs": [],
   "source": [
    "#Fibbonacci series \n",
    "def fib(start:int,size:int):\n",
    "    '''\n",
    "    ### this fibonacci function\n",
    "    -start:pass a number for the start of fibonacci Series \n",
    "    -returns list of fibonacci series\n",
    "     ```   \n",
    "    out=fib(0)\n",
    "    print(out)\n",
    "    ```\n",
    "    '''\n",
    "    out=[start,start+1]\n",
    "    for i in range(size-2):\n",
    "        out.append(out[-1]+out[-2])\n",
    "    return out    "
   ]
  },
  {
   "cell_type": "code",
   "execution_count": 41,
   "metadata": {},
   "outputs": [
    {
     "name": "stdout",
     "output_type": "stream",
     "text": [
      "[3, 4, 7, 11, 18, 29, 47, 76, 123, 199, 322, 521, 843, 1364, 2207]\n"
     ]
    }
   ],
   "source": [
    "print(fib(3,15))"
   ]
  },
  {
   "cell_type": "code",
   "execution_count": 59,
   "metadata": {},
   "outputs": [
    {
     "name": "stdout",
     "output_type": "stream",
     "text": [
      "(100.0, 1100.0)\n",
      "(4000.0, 14000.0)\n"
     ]
    }
   ],
   "source": [
    "#create a function to calculate si and amount and return the val\n",
    "\n",
    "def calc(p,r,t):\n",
    "    si=(p*r*t)/100\n",
    "    amt=si+p\n",
    "    return si,amt \n",
    "print(calc(1000,5,2))\n",
    "print(calc(10000,4,10))\n"
   ]
  },
  {
   "cell_type": "code",
   "execution_count": 71,
   "metadata": {},
   "outputs": [],
   "source": [
    "import utils"
   ]
  },
  {
   "cell_type": "code",
   "execution_count": 76,
   "metadata": {},
   "outputs": [],
   "source": [
    "s='this is that , that is this , what is where  and where is what'"
   ]
  },
  {
   "cell_type": "code",
   "execution_count": 77,
   "metadata": {},
   "outputs": [
    {
     "data": {
      "text/plain": [
       "{'this': 2, 'that': 2, ',': 2, 'is': 4, 'where': 2, 'what': 2, 'and': 1}"
      ]
     },
     "execution_count": 77,
     "metadata": {},
     "output_type": "execute_result"
    }
   ],
   "source": [
    "utils.word_counter(s)"
   ]
  },
  {
   "cell_type": "code",
   "execution_count": 66,
   "metadata": {},
   "outputs": [
    {
     "name": "stdout",
     "output_type": "stream",
     "text": [
      "d 1\n",
      "e 4\n",
      "s 6\n",
      "a 5\n",
      "n 1\n",
      "h 8\n",
      "i 6\n",
      "T 1\n",
      "  11\n",
      ", 2\n",
      "w 4\n",
      "r 2\n",
      "t 7\n"
     ]
    },
    {
     "data": {
      "text/plain": [
       "{'d': 1,\n",
       " 'e': 4,\n",
       " 's': 6,\n",
       " 'a': 5,\n",
       " 'n': 1,\n",
       " 'h': 8,\n",
       " 'i': 6,\n",
       " 'T': 1,\n",
       " ' ': 11,\n",
       " ',': 2,\n",
       " 'w': 4,\n",
       " 'r': 2,\n",
       " 't': 7}"
      ]
     },
     "execution_count": 66,
     "metadata": {},
     "output_type": "execute_result"
    }
   ],
   "source": [
    "utils.char_counter(s)"
   ]
  },
  {
   "cell_type": "code",
   "execution_count": null,
   "metadata": {},
   "outputs": [],
   "source": []
  }
 ],
 "metadata": {
  "kernelspec": {
   "display_name": "Python 3.9.12 ('base')",
   "language": "python",
   "name": "python3"
  },
  "language_info": {
   "codemirror_mode": {
    "name": "ipython",
    "version": 3
   },
   "file_extension": ".py",
   "mimetype": "text/x-python",
   "name": "python",
   "nbconvert_exporter": "python",
   "pygments_lexer": "ipython3",
   "version": "3.9.12"
  },
  "orig_nbformat": 4,
  "vscode": {
   "interpreter": {
    "hash": "378962d97cf1bad49541e3e73627420923816b4ab822374f9a23404e347b3a45"
   }
  }
 },
 "nbformat": 4,
 "nbformat_minor": 2
}
